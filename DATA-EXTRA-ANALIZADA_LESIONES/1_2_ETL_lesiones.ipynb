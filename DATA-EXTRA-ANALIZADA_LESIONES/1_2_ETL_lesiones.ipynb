{
 "cells": [
  {
   "cell_type": "markdown",
   "metadata": {},
   "source": [
    "# <center>  ETL </br>\n",
    "#  <center> -- Extraer, Transformar y Cargar --</center>\n",
    "Se realiza la extracción, transformación y carga de los datos proporcionados en el archivo 'lesiones.xlsx, una primera aproximación a los datos con lo que se cuenta.\n"
   ]
  },
  {
   "cell_type": "markdown",
   "metadata": {},
   "source": [
    "_________________"
   ]
  },
  {
   "cell_type": "markdown",
   "metadata": {},
   "source": [
    "### <center>Importar Librerias</center>"
   ]
  },
  {
   "cell_type": "code",
   "execution_count": 37,
   "metadata": {},
   "outputs": [],
   "source": [
    "import pandas as pd\n",
    "import numpy as np\n",
    "import os\n",
    "import funciones\n",
    "\n",
    "import warnings\n",
    "warnings.filterwarnings(\"ignore\")"
   ]
  },
  {
   "cell_type": "markdown",
   "metadata": {},
   "source": [
    "________________"
   ]
  },
  {
   "cell_type": "markdown",
   "metadata": {},
   "source": [
    "### <center>Extracción de datos</center>"
   ]
  },
  {
   "cell_type": "code",
   "execution_count": 38,
   "metadata": {},
   "outputs": [],
   "source": [
    "#Se pasa dirección del archivo\n",
    "archivo = os.path.join('..', 'BD', 'lesiones.xlsx')\n",
    "\n",
    "#Se extraen las tablas del archivo 'homicidios.xlsx', tabla: HECHOS y tabla: VICTIMAS\n",
    "df_lesiones_h = pd.read_excel(archivo, sheet_name='HECHOS')\n",
    "df_lesiones_v = pd.read_excel(archivo, sheet_name='VICTIMAS')\n"
   ]
  },
  {
   "cell_type": "code",
   "execution_count": 39,
   "metadata": {},
   "outputs": [
    {
     "data": {
      "text/plain": [
       "(23785, 27)"
      ]
     },
     "execution_count": 39,
     "metadata": {},
     "output_type": "execute_result"
    }
   ],
   "source": [
    "# Se visualizan las dimensiones del dataframe (filas, columnas)\n",
    "df_lesiones_h.shape"
   ]
  },
  {
   "cell_type": "code",
   "execution_count": 40,
   "metadata": {},
   "outputs": [
    {
     "data": {
      "text/html": [
       "<div>\n",
       "<style scoped>\n",
       "    .dataframe tbody tr th:only-of-type {\n",
       "        vertical-align: middle;\n",
       "    }\n",
       "\n",
       "    .dataframe tbody tr th {\n",
       "        vertical-align: top;\n",
       "    }\n",
       "\n",
       "    .dataframe thead th {\n",
       "        text-align: right;\n",
       "    }\n",
       "</style>\n",
       "<table border=\"1\" class=\"dataframe\">\n",
       "  <thead>\n",
       "    <tr style=\"text-align: right;\">\n",
       "      <th></th>\n",
       "      <th>id</th>\n",
       "      <th>n_victimas</th>\n",
       "      <th>aaaa</th>\n",
       "      <th>mm</th>\n",
       "      <th>dd</th>\n",
       "      <th>fecha</th>\n",
       "      <th>hora</th>\n",
       "      <th>franja_hora</th>\n",
       "      <th>direccion_normalizada</th>\n",
       "      <th>comuna</th>\n",
       "      <th>...</th>\n",
       "      <th>latutid</th>\n",
       "      <th>victima</th>\n",
       "      <th>acusado</th>\n",
       "      <th>participantes</th>\n",
       "      <th>moto</th>\n",
       "      <th>auto</th>\n",
       "      <th>transporte_publico</th>\n",
       "      <th>camion</th>\n",
       "      <th>ciclista</th>\n",
       "      <th>gravedad</th>\n",
       "    </tr>\n",
       "  </thead>\n",
       "  <tbody>\n",
       "    <tr>\n",
       "      <th>0</th>\n",
       "      <td>LC-2019-0000179</td>\n",
       "      <td>1</td>\n",
       "      <td>2019</td>\n",
       "      <td>1</td>\n",
       "      <td>1</td>\n",
       "      <td>2019-01-01 00:00:00</td>\n",
       "      <td>09:00:00</td>\n",
       "      <td>9</td>\n",
       "      <td>SD</td>\n",
       "      <td>14</td>\n",
       "      <td>...</td>\n",
       "      <td>-34.559658</td>\n",
       "      <td>CICLISTA</td>\n",
       "      <td>SD</td>\n",
       "      <td>CICLISTA-SD</td>\n",
       "      <td>SD</td>\n",
       "      <td>SD</td>\n",
       "      <td>SD</td>\n",
       "      <td>SD</td>\n",
       "      <td>x</td>\n",
       "      <td>SD</td>\n",
       "    </tr>\n",
       "    <tr>\n",
       "      <th>1</th>\n",
       "      <td>LC-2019-0000053</td>\n",
       "      <td>1</td>\n",
       "      <td>2019</td>\n",
       "      <td>1</td>\n",
       "      <td>1</td>\n",
       "      <td>2019-01-01 00:00:00</td>\n",
       "      <td>01:55:00</td>\n",
       "      <td>1</td>\n",
       "      <td>SD</td>\n",
       "      <td>8</td>\n",
       "      <td>...</td>\n",
       "      <td>-34.669125</td>\n",
       "      <td>AUTO</td>\n",
       "      <td>SD</td>\n",
       "      <td>AUTO-SD</td>\n",
       "      <td>SD</td>\n",
       "      <td>x</td>\n",
       "      <td>SD</td>\n",
       "      <td>SD</td>\n",
       "      <td>SD</td>\n",
       "      <td>SD</td>\n",
       "    </tr>\n",
       "  </tbody>\n",
       "</table>\n",
       "<p>2 rows × 27 columns</p>\n",
       "</div>"
      ],
      "text/plain": [
       "                id  n_victimas  aaaa  mm  dd                fecha      hora  \\\n",
       "0  LC-2019-0000179           1  2019   1   1  2019-01-01 00:00:00  09:00:00   \n",
       "1  LC-2019-0000053           1  2019   1   1  2019-01-01 00:00:00  01:55:00   \n",
       "\n",
       "  franja_hora direccion_normalizada comuna  ...     latutid   victima acusado  \\\n",
       "0           9                    SD     14  ...  -34.559658  CICLISTA      SD   \n",
       "1           1                    SD      8  ...  -34.669125      AUTO      SD   \n",
       "\n",
       "   participantes moto auto transporte_publico camion ciclista gravedad  \n",
       "0    CICLISTA-SD   SD   SD                 SD     SD        x       SD  \n",
       "1        AUTO-SD   SD    x                 SD     SD       SD       SD  \n",
       "\n",
       "[2 rows x 27 columns]"
      ]
     },
     "execution_count": 40,
     "metadata": {},
     "output_type": "execute_result"
    }
   ],
   "source": [
    "df_lesiones_h.head(2)"
   ]
  },
  {
   "cell_type": "code",
   "execution_count": 41,
   "metadata": {},
   "outputs": [
    {
     "data": {
      "text/plain": [
       "(27605, 9)"
      ]
     },
     "execution_count": 41,
     "metadata": {},
     "output_type": "execute_result"
    }
   ],
   "source": [
    "# Se visualizan las dimensiones del dataframe (filas, columnas)\n",
    "df_lesiones_v.shape"
   ]
  },
  {
   "cell_type": "code",
   "execution_count": 42,
   "metadata": {},
   "outputs": [
    {
     "data": {
      "text/html": [
       "<div>\n",
       "<style scoped>\n",
       "    .dataframe tbody tr th:only-of-type {\n",
       "        vertical-align: middle;\n",
       "    }\n",
       "\n",
       "    .dataframe tbody tr th {\n",
       "        vertical-align: top;\n",
       "    }\n",
       "\n",
       "    .dataframe thead th {\n",
       "        text-align: right;\n",
       "    }\n",
       "</style>\n",
       "<table border=\"1\" class=\"dataframe\">\n",
       "  <thead>\n",
       "    <tr style=\"text-align: right;\">\n",
       "      <th></th>\n",
       "      <th>ID hecho</th>\n",
       "      <th>AAA</th>\n",
       "      <th>MM</th>\n",
       "      <th>DD</th>\n",
       "      <th>FECHA</th>\n",
       "      <th>VEHICULO_VICTIMA</th>\n",
       "      <th>SEXO</th>\n",
       "      <th>EDAD_VICTIMA</th>\n",
       "      <th>GRAVEDAD</th>\n",
       "    </tr>\n",
       "  </thead>\n",
       "  <tbody>\n",
       "    <tr>\n",
       "      <th>0</th>\n",
       "      <td>LC-2019-0000053</td>\n",
       "      <td>2019</td>\n",
       "      <td>1</td>\n",
       "      <td>1</td>\n",
       "      <td>2019-01-01</td>\n",
       "      <td>sd</td>\n",
       "      <td>Varon</td>\n",
       "      <td>57</td>\n",
       "      <td>SD</td>\n",
       "    </tr>\n",
       "    <tr>\n",
       "      <th>1</th>\n",
       "      <td>LC-2019-0000063</td>\n",
       "      <td>2019</td>\n",
       "      <td>1</td>\n",
       "      <td>1</td>\n",
       "      <td>2019-01-01</td>\n",
       "      <td>sd</td>\n",
       "      <td>SD</td>\n",
       "      <td>SD</td>\n",
       "      <td>SD</td>\n",
       "    </tr>\n",
       "  </tbody>\n",
       "</table>\n",
       "</div>"
      ],
      "text/plain": [
       "          ID hecho   AAA  MM  DD     FECHA  VEHICULO_VICTIMA   SEXO  \\\n",
       "0  LC-2019-0000053  2019   1   1 2019-01-01               sd  Varon   \n",
       "1  LC-2019-0000063  2019   1   1 2019-01-01               sd     SD   \n",
       "\n",
       "  EDAD_VICTIMA GRAVEDAD  \n",
       "0           57       SD  \n",
       "1           SD       SD  "
      ]
     },
     "execution_count": 42,
     "metadata": {},
     "output_type": "execute_result"
    }
   ],
   "source": [
    "df_lesiones_v.head(2)"
   ]
  },
  {
   "cell_type": "markdown",
   "metadata": {},
   "source": [
    "______________"
   ]
  },
  {
   "cell_type": "markdown",
   "metadata": {},
   "source": [
    "### Se analizó la información brindada, se estudió el problema y se decidió cual es la información más reelevante para el anális. Por lo que se se selecciona las columnas omportantes a utilizar, y se hace un merge."
   ]
  },
  {
   "cell_type": "code",
   "execution_count": 43,
   "metadata": {},
   "outputs": [],
   "source": [
    "# Se hace un nuevo dataframe (homicidios_hechos) con las columas a utilizar y se renombran las mismas para una mejor vision de los datos\n",
    "df_lesiones_h = df_lesiones_h[['id','n_victimas', 'fecha', 'aaaa', 'mm', 'dd', 'franja_hora', 'comuna', 'longitud', 'latutid', 'tipo_calle', 'acusado']].rename(\n",
    "    columns={'id': 'ID','n_victimas': 'CANT_VICTIMA', 'fecha': 'FECHA', 'aaaa': 'AÑO', 'mm': 'MES', 'dd': 'DIA', 'franja_hora': 'HORA', 'comuna': 'COMUNA', 'longitud': 'LONGITUD', 'latutid': 'LATITUD', 'tipo_calle': 'TIPO_CALLE', 'acusado': 'ACUSADO'})"
   ]
  },
  {
   "cell_type": "code",
   "execution_count": 44,
   "metadata": {},
   "outputs": [
    {
     "data": {
      "text/html": [
       "<div>\n",
       "<style scoped>\n",
       "    .dataframe tbody tr th:only-of-type {\n",
       "        vertical-align: middle;\n",
       "    }\n",
       "\n",
       "    .dataframe tbody tr th {\n",
       "        vertical-align: top;\n",
       "    }\n",
       "\n",
       "    .dataframe thead th {\n",
       "        text-align: right;\n",
       "    }\n",
       "</style>\n",
       "<table border=\"1\" class=\"dataframe\">\n",
       "  <thead>\n",
       "    <tr style=\"text-align: right;\">\n",
       "      <th></th>\n",
       "      <th>ID</th>\n",
       "      <th>CANT_VICTIMA</th>\n",
       "      <th>FECHA</th>\n",
       "      <th>AÑO</th>\n",
       "      <th>MES</th>\n",
       "      <th>DIA</th>\n",
       "      <th>HORA</th>\n",
       "      <th>COMUNA</th>\n",
       "      <th>LONGITUD</th>\n",
       "      <th>LATITUD</th>\n",
       "      <th>TIPO_CALLE</th>\n",
       "      <th>ACUSADO</th>\n",
       "    </tr>\n",
       "  </thead>\n",
       "  <tbody>\n",
       "    <tr>\n",
       "      <th>0</th>\n",
       "      <td>LC-2019-0000179</td>\n",
       "      <td>1</td>\n",
       "      <td>2019-01-01 00:00:00</td>\n",
       "      <td>2019</td>\n",
       "      <td>1</td>\n",
       "      <td>1</td>\n",
       "      <td>9</td>\n",
       "      <td>14</td>\n",
       "      <td>-58.408911</td>\n",
       "      <td>-34.559658</td>\n",
       "      <td>SD</td>\n",
       "      <td>SD</td>\n",
       "    </tr>\n",
       "    <tr>\n",
       "      <th>1</th>\n",
       "      <td>LC-2019-0000053</td>\n",
       "      <td>1</td>\n",
       "      <td>2019-01-01 00:00:00</td>\n",
       "      <td>2019</td>\n",
       "      <td>1</td>\n",
       "      <td>1</td>\n",
       "      <td>1</td>\n",
       "      <td>8</td>\n",
       "      <td>-58.44351</td>\n",
       "      <td>-34.669125</td>\n",
       "      <td>SD</td>\n",
       "      <td>SD</td>\n",
       "    </tr>\n",
       "  </tbody>\n",
       "</table>\n",
       "</div>"
      ],
      "text/plain": [
       "                ID  CANT_VICTIMA                FECHA   AÑO  MES  DIA HORA  \\\n",
       "0  LC-2019-0000179             1  2019-01-01 00:00:00  2019    1    1    9   \n",
       "1  LC-2019-0000053             1  2019-01-01 00:00:00  2019    1    1    1   \n",
       "\n",
       "  COMUNA    LONGITUD     LATITUD TIPO_CALLE ACUSADO  \n",
       "0     14  -58.408911  -34.559658         SD      SD  \n",
       "1      8   -58.44351  -34.669125         SD      SD  "
      ]
     },
     "execution_count": 44,
     "metadata": {},
     "output_type": "execute_result"
    }
   ],
   "source": [
    "# Se observan los datos\n",
    "df_lesiones_h.head(2)"
   ]
  },
  {
   "cell_type": "code",
   "execution_count": 45,
   "metadata": {},
   "outputs": [],
   "source": [
    "# Se hace un nuevo dataframe (homicidios_hechos) con las columas a utilizar y se renombran las mismas para una mejor vision de los datos\n",
    "df_lesiones_v = df_lesiones_v[['ID hecho', 'VEHICULO_VICTIMA']].rename(columns={'ID hecho': 'ID', 'VEHICULO_VICTIMA': 'VICTIMA'})\n"
   ]
  },
  {
   "cell_type": "code",
   "execution_count": 46,
   "metadata": {},
   "outputs": [
    {
     "data": {
      "text/html": [
       "<div>\n",
       "<style scoped>\n",
       "    .dataframe tbody tr th:only-of-type {\n",
       "        vertical-align: middle;\n",
       "    }\n",
       "\n",
       "    .dataframe tbody tr th {\n",
       "        vertical-align: top;\n",
       "    }\n",
       "\n",
       "    .dataframe thead th {\n",
       "        text-align: right;\n",
       "    }\n",
       "</style>\n",
       "<table border=\"1\" class=\"dataframe\">\n",
       "  <thead>\n",
       "    <tr style=\"text-align: right;\">\n",
       "      <th></th>\n",
       "      <th>ID</th>\n",
       "      <th>VICTIMA</th>\n",
       "    </tr>\n",
       "  </thead>\n",
       "  <tbody>\n",
       "    <tr>\n",
       "      <th>0</th>\n",
       "      <td>LC-2019-0000053</td>\n",
       "      <td>sd</td>\n",
       "    </tr>\n",
       "    <tr>\n",
       "      <th>1</th>\n",
       "      <td>LC-2019-0000063</td>\n",
       "      <td>sd</td>\n",
       "    </tr>\n",
       "  </tbody>\n",
       "</table>\n",
       "</div>"
      ],
      "text/plain": [
       "                ID VICTIMA\n",
       "0  LC-2019-0000053      sd\n",
       "1  LC-2019-0000063      sd"
      ]
     },
     "execution_count": 46,
     "metadata": {},
     "output_type": "execute_result"
    }
   ],
   "source": [
    "# Se visualizan los datos\n",
    "df_lesiones_v.head(2)"
   ]
  },
  {
   "cell_type": "markdown",
   "metadata": {},
   "source": [
    "_______________________________"
   ]
  },
  {
   "cell_type": "markdown",
   "metadata": {},
   "source": [
    "Se hace el merge de ambos dataframes, conservando todos los campos de df_lesiones_v (víctima)"
   ]
  },
  {
   "cell_type": "code",
   "execution_count": 47,
   "metadata": {},
   "outputs": [],
   "source": [
    "# Se hace la union de ambos dataframe\n",
    "df_lesiones = df_lesiones_v.merge(df_lesiones_h, left_on='ID', right_on='ID', how='left')"
   ]
  },
  {
   "cell_type": "code",
   "execution_count": 48,
   "metadata": {},
   "outputs": [
    {
     "data": {
      "text/plain": [
       "(23785, 12)"
      ]
     },
     "execution_count": 48,
     "metadata": {},
     "output_type": "execute_result"
    }
   ],
   "source": [
    "# Se verifica tamaño del dataframe\n",
    "df_lesiones_h.shape"
   ]
  },
  {
   "cell_type": "code",
   "execution_count": 49,
   "metadata": {},
   "outputs": [
    {
     "data": {
      "text/html": [
       "<div>\n",
       "<style scoped>\n",
       "    .dataframe tbody tr th:only-of-type {\n",
       "        vertical-align: middle;\n",
       "    }\n",
       "\n",
       "    .dataframe tbody tr th {\n",
       "        vertical-align: top;\n",
       "    }\n",
       "\n",
       "    .dataframe thead th {\n",
       "        text-align: right;\n",
       "    }\n",
       "</style>\n",
       "<table border=\"1\" class=\"dataframe\">\n",
       "  <thead>\n",
       "    <tr style=\"text-align: right;\">\n",
       "      <th></th>\n",
       "      <th>ID</th>\n",
       "      <th>VICTIMA</th>\n",
       "      <th>CANT_VICTIMA</th>\n",
       "      <th>FECHA</th>\n",
       "      <th>AÑO</th>\n",
       "      <th>MES</th>\n",
       "      <th>DIA</th>\n",
       "      <th>HORA</th>\n",
       "      <th>COMUNA</th>\n",
       "      <th>LONGITUD</th>\n",
       "      <th>LATITUD</th>\n",
       "      <th>TIPO_CALLE</th>\n",
       "      <th>ACUSADO</th>\n",
       "    </tr>\n",
       "  </thead>\n",
       "  <tbody>\n",
       "    <tr>\n",
       "      <th>0</th>\n",
       "      <td>LC-2019-0000053</td>\n",
       "      <td>sd</td>\n",
       "      <td>1.0</td>\n",
       "      <td>2019-01-01 00:00:00</td>\n",
       "      <td>2019.0</td>\n",
       "      <td>1.0</td>\n",
       "      <td>1.0</td>\n",
       "      <td>1</td>\n",
       "      <td>8</td>\n",
       "      <td>-58.44351</td>\n",
       "      <td>-34.669125</td>\n",
       "      <td>SD</td>\n",
       "      <td>SD</td>\n",
       "    </tr>\n",
       "    <tr>\n",
       "      <th>1</th>\n",
       "      <td>LC-2019-0000063</td>\n",
       "      <td>sd</td>\n",
       "      <td>1.0</td>\n",
       "      <td>2019-01-01 00:00:00</td>\n",
       "      <td>2019.0</td>\n",
       "      <td>1.0</td>\n",
       "      <td>1.0</td>\n",
       "      <td>2</td>\n",
       "      <td>8</td>\n",
       "      <td>-58.468335</td>\n",
       "      <td>-34.677556</td>\n",
       "      <td>SD</td>\n",
       "      <td>SD</td>\n",
       "    </tr>\n",
       "  </tbody>\n",
       "</table>\n",
       "</div>"
      ],
      "text/plain": [
       "                ID VICTIMA  CANT_VICTIMA                FECHA     AÑO  MES  \\\n",
       "0  LC-2019-0000053      sd           1.0  2019-01-01 00:00:00  2019.0  1.0   \n",
       "1  LC-2019-0000063      sd           1.0  2019-01-01 00:00:00  2019.0  1.0   \n",
       "\n",
       "   DIA HORA COMUNA    LONGITUD     LATITUD TIPO_CALLE ACUSADO  \n",
       "0  1.0    1      8   -58.44351  -34.669125         SD      SD  \n",
       "1  1.0    2      8  -58.468335  -34.677556         SD      SD  "
      ]
     },
     "execution_count": 49,
     "metadata": {},
     "output_type": "execute_result"
    }
   ],
   "source": [
    "# Se visualiza\n",
    "df_lesiones.head(2)"
   ]
  },
  {
   "cell_type": "markdown",
   "metadata": {},
   "source": [
    "_______________________"
   ]
  },
  {
   "cell_type": "markdown",
   "metadata": {},
   "source": [
    "### <center>Verificación de tipos de datos y nulos de datos</center>"
   ]
  },
  {
   "cell_type": "code",
   "execution_count": 50,
   "metadata": {},
   "outputs": [
    {
     "data": {
      "text/html": [
       "<div>\n",
       "<style scoped>\n",
       "    .dataframe tbody tr th:only-of-type {\n",
       "        vertical-align: middle;\n",
       "    }\n",
       "\n",
       "    .dataframe tbody tr th {\n",
       "        vertical-align: top;\n",
       "    }\n",
       "\n",
       "    .dataframe thead th {\n",
       "        text-align: right;\n",
       "    }\n",
       "</style>\n",
       "<table border=\"1\" class=\"dataframe\">\n",
       "  <thead>\n",
       "    <tr style=\"text-align: right;\">\n",
       "      <th></th>\n",
       "      <th>Columna</th>\n",
       "      <th>Tipo</th>\n",
       "      <th>NO_nulos_%</th>\n",
       "      <th>Nulos_%</th>\n",
       "      <th>Nulos</th>\n",
       "    </tr>\n",
       "  </thead>\n",
       "  <tbody>\n",
       "    <tr>\n",
       "      <th>0</th>\n",
       "      <td>ID</td>\n",
       "      <td>[&lt;class 'str'&gt;]</td>\n",
       "      <td>100.00</td>\n",
       "      <td>0.00</td>\n",
       "      <td>0</td>\n",
       "    </tr>\n",
       "    <tr>\n",
       "      <th>1</th>\n",
       "      <td>VICTIMA</td>\n",
       "      <td>[&lt;class 'str'&gt;]</td>\n",
       "      <td>100.00</td>\n",
       "      <td>0.00</td>\n",
       "      <td>0</td>\n",
       "    </tr>\n",
       "    <tr>\n",
       "      <th>2</th>\n",
       "      <td>CANT_VICTIMA</td>\n",
       "      <td>[&lt;class 'float'&gt;]</td>\n",
       "      <td>99.97</td>\n",
       "      <td>0.03</td>\n",
       "      <td>7</td>\n",
       "    </tr>\n",
       "    <tr>\n",
       "      <th>3</th>\n",
       "      <td>FECHA</td>\n",
       "      <td>[&lt;class 'datetime.datetime'&gt;, &lt;class 'float'&gt;,...</td>\n",
       "      <td>99.97</td>\n",
       "      <td>0.03</td>\n",
       "      <td>7</td>\n",
       "    </tr>\n",
       "    <tr>\n",
       "      <th>4</th>\n",
       "      <td>AÑO</td>\n",
       "      <td>[&lt;class 'float'&gt;]</td>\n",
       "      <td>99.97</td>\n",
       "      <td>0.03</td>\n",
       "      <td>7</td>\n",
       "    </tr>\n",
       "    <tr>\n",
       "      <th>5</th>\n",
       "      <td>MES</td>\n",
       "      <td>[&lt;class 'float'&gt;]</td>\n",
       "      <td>99.97</td>\n",
       "      <td>0.03</td>\n",
       "      <td>7</td>\n",
       "    </tr>\n",
       "    <tr>\n",
       "      <th>6</th>\n",
       "      <td>DIA</td>\n",
       "      <td>[&lt;class 'float'&gt;]</td>\n",
       "      <td>99.97</td>\n",
       "      <td>0.03</td>\n",
       "      <td>7</td>\n",
       "    </tr>\n",
       "    <tr>\n",
       "      <th>7</th>\n",
       "      <td>HORA</td>\n",
       "      <td>[&lt;class 'int'&gt;, &lt;class 'str'&gt;, &lt;class 'float'&gt;]</td>\n",
       "      <td>99.96</td>\n",
       "      <td>0.04</td>\n",
       "      <td>12</td>\n",
       "    </tr>\n",
       "    <tr>\n",
       "      <th>8</th>\n",
       "      <td>COMUNA</td>\n",
       "      <td>[&lt;class 'int'&gt;, &lt;class 'str'&gt;, &lt;class 'float'&gt;]</td>\n",
       "      <td>99.33</td>\n",
       "      <td>0.67</td>\n",
       "      <td>185</td>\n",
       "    </tr>\n",
       "    <tr>\n",
       "      <th>9</th>\n",
       "      <td>LONGITUD</td>\n",
       "      <td>[&lt;class 'str'&gt;, &lt;class 'float'&gt;, &lt;class 'int'&gt;]</td>\n",
       "      <td>99.00</td>\n",
       "      <td>1.00</td>\n",
       "      <td>277</td>\n",
       "    </tr>\n",
       "    <tr>\n",
       "      <th>10</th>\n",
       "      <td>LATITUD</td>\n",
       "      <td>[&lt;class 'str'&gt;, &lt;class 'float'&gt;, &lt;class 'int'&gt;]</td>\n",
       "      <td>99.00</td>\n",
       "      <td>1.00</td>\n",
       "      <td>277</td>\n",
       "    </tr>\n",
       "    <tr>\n",
       "      <th>11</th>\n",
       "      <td>TIPO_CALLE</td>\n",
       "      <td>[&lt;class 'str'&gt;, &lt;class 'float'&gt;]</td>\n",
       "      <td>99.97</td>\n",
       "      <td>0.03</td>\n",
       "      <td>7</td>\n",
       "    </tr>\n",
       "    <tr>\n",
       "      <th>12</th>\n",
       "      <td>ACUSADO</td>\n",
       "      <td>[&lt;class 'str'&gt;, &lt;class 'float'&gt;]</td>\n",
       "      <td>99.97</td>\n",
       "      <td>0.03</td>\n",
       "      <td>7</td>\n",
       "    </tr>\n",
       "  </tbody>\n",
       "</table>\n",
       "</div>"
      ],
      "text/plain": [
       "         Columna                                               Tipo  \\\n",
       "0             ID                                    [<class 'str'>]   \n",
       "1        VICTIMA                                    [<class 'str'>]   \n",
       "2   CANT_VICTIMA                                  [<class 'float'>]   \n",
       "3          FECHA  [<class 'datetime.datetime'>, <class 'float'>,...   \n",
       "4            AÑO                                  [<class 'float'>]   \n",
       "5            MES                                  [<class 'float'>]   \n",
       "6            DIA                                  [<class 'float'>]   \n",
       "7           HORA    [<class 'int'>, <class 'str'>, <class 'float'>]   \n",
       "8         COMUNA    [<class 'int'>, <class 'str'>, <class 'float'>]   \n",
       "9       LONGITUD    [<class 'str'>, <class 'float'>, <class 'int'>]   \n",
       "10       LATITUD    [<class 'str'>, <class 'float'>, <class 'int'>]   \n",
       "11    TIPO_CALLE                   [<class 'str'>, <class 'float'>]   \n",
       "12       ACUSADO                   [<class 'str'>, <class 'float'>]   \n",
       "\n",
       "    NO_nulos_%  Nulos_%  Nulos  \n",
       "0       100.00     0.00      0  \n",
       "1       100.00     0.00      0  \n",
       "2        99.97     0.03      7  \n",
       "3        99.97     0.03      7  \n",
       "4        99.97     0.03      7  \n",
       "5        99.97     0.03      7  \n",
       "6        99.97     0.03      7  \n",
       "7        99.96     0.04     12  \n",
       "8        99.33     0.67    185  \n",
       "9        99.00     1.00    277  \n",
       "10       99.00     1.00    277  \n",
       "11       99.97     0.03      7  \n",
       "12       99.97     0.03      7  "
      ]
     },
     "execution_count": 50,
     "metadata": {},
     "output_type": "execute_result"
    }
   ],
   "source": [
    "funciones.verificar_tipo_datos(df_lesiones)"
   ]
  },
  {
   "cell_type": "markdown",
   "metadata": {},
   "source": [
    "Se encuentran nulos y tipos de datos a corregir"
   ]
  },
  {
   "cell_type": "markdown",
   "metadata": {},
   "source": [
    "_________________"
   ]
  },
  {
   "cell_type": "markdown",
   "metadata": {},
   "source": [
    "## Trato de  nulos"
   ]
  },
  {
   "cell_type": "markdown",
   "metadata": {},
   "source": [
    "Se observa que FECHA, AÑO, MES y DIA tienen la misma cantidad de faltantes, por lo que al no contar con esas fechas se decide eliminar los registros"
   ]
  },
  {
   "cell_type": "code",
   "execution_count": 51,
   "metadata": {},
   "outputs": [
    {
     "data": {
      "text/html": [
       "<div>\n",
       "<style scoped>\n",
       "    .dataframe tbody tr th:only-of-type {\n",
       "        vertical-align: middle;\n",
       "    }\n",
       "\n",
       "    .dataframe tbody tr th {\n",
       "        vertical-align: top;\n",
       "    }\n",
       "\n",
       "    .dataframe thead th {\n",
       "        text-align: right;\n",
       "    }\n",
       "</style>\n",
       "<table border=\"1\" class=\"dataframe\">\n",
       "  <thead>\n",
       "    <tr style=\"text-align: right;\">\n",
       "      <th></th>\n",
       "      <th>ID</th>\n",
       "      <th>VICTIMA</th>\n",
       "      <th>CANT_VICTIMA</th>\n",
       "      <th>FECHA</th>\n",
       "      <th>AÑO</th>\n",
       "      <th>MES</th>\n",
       "      <th>DIA</th>\n",
       "      <th>HORA</th>\n",
       "      <th>COMUNA</th>\n",
       "      <th>LONGITUD</th>\n",
       "      <th>LATITUD</th>\n",
       "      <th>TIPO_CALLE</th>\n",
       "      <th>ACUSADO</th>\n",
       "    </tr>\n",
       "  </thead>\n",
       "  <tbody>\n",
       "    <tr>\n",
       "      <th>11790</th>\n",
       "      <td>PNA-2019-0005246</td>\n",
       "      <td>sd</td>\n",
       "      <td>NaN</td>\n",
       "      <td>NaN</td>\n",
       "      <td>NaN</td>\n",
       "      <td>NaN</td>\n",
       "      <td>NaN</td>\n",
       "      <td>NaN</td>\n",
       "      <td>NaN</td>\n",
       "      <td>NaN</td>\n",
       "      <td>NaN</td>\n",
       "      <td>NaN</td>\n",
       "      <td>NaN</td>\n",
       "    </tr>\n",
       "    <tr>\n",
       "      <th>16186</th>\n",
       "      <td>HC-2020-0499647</td>\n",
       "      <td>AUTO</td>\n",
       "      <td>NaN</td>\n",
       "      <td>NaN</td>\n",
       "      <td>NaN</td>\n",
       "      <td>NaN</td>\n",
       "      <td>NaN</td>\n",
       "      <td>NaN</td>\n",
       "      <td>NaN</td>\n",
       "      <td>NaN</td>\n",
       "      <td>NaN</td>\n",
       "      <td>NaN</td>\n",
       "      <td>NaN</td>\n",
       "    </tr>\n",
       "    <tr>\n",
       "      <th>16187</th>\n",
       "      <td>HC-2020-0499647</td>\n",
       "      <td>AUTO</td>\n",
       "      <td>NaN</td>\n",
       "      <td>NaN</td>\n",
       "      <td>NaN</td>\n",
       "      <td>NaN</td>\n",
       "      <td>NaN</td>\n",
       "      <td>NaN</td>\n",
       "      <td>NaN</td>\n",
       "      <td>NaN</td>\n",
       "      <td>NaN</td>\n",
       "      <td>NaN</td>\n",
       "      <td>NaN</td>\n",
       "    </tr>\n",
       "    <tr>\n",
       "      <th>16188</th>\n",
       "      <td>HC-2020-0499647</td>\n",
       "      <td>AUTO</td>\n",
       "      <td>NaN</td>\n",
       "      <td>NaN</td>\n",
       "      <td>NaN</td>\n",
       "      <td>NaN</td>\n",
       "      <td>NaN</td>\n",
       "      <td>NaN</td>\n",
       "      <td>NaN</td>\n",
       "      <td>NaN</td>\n",
       "      <td>NaN</td>\n",
       "      <td>NaN</td>\n",
       "      <td>NaN</td>\n",
       "    </tr>\n",
       "    <tr>\n",
       "      <th>22821</th>\n",
       "      <td>HC-2021-0147160</td>\n",
       "      <td>SD</td>\n",
       "      <td>NaN</td>\n",
       "      <td>NaN</td>\n",
       "      <td>NaN</td>\n",
       "      <td>NaN</td>\n",
       "      <td>NaN</td>\n",
       "      <td>NaN</td>\n",
       "      <td>NaN</td>\n",
       "      <td>NaN</td>\n",
       "      <td>NaN</td>\n",
       "      <td>NaN</td>\n",
       "      <td>NaN</td>\n",
       "    </tr>\n",
       "    <tr>\n",
       "      <th>22822</th>\n",
       "      <td>HC-2021-0147160</td>\n",
       "      <td>SD</td>\n",
       "      <td>NaN</td>\n",
       "      <td>NaN</td>\n",
       "      <td>NaN</td>\n",
       "      <td>NaN</td>\n",
       "      <td>NaN</td>\n",
       "      <td>NaN</td>\n",
       "      <td>NaN</td>\n",
       "      <td>NaN</td>\n",
       "      <td>NaN</td>\n",
       "      <td>NaN</td>\n",
       "      <td>NaN</td>\n",
       "    </tr>\n",
       "    <tr>\n",
       "      <th>26799</th>\n",
       "      <td>HC-2021-0167039</td>\n",
       "      <td>PEATON</td>\n",
       "      <td>NaN</td>\n",
       "      <td>NaN</td>\n",
       "      <td>NaN</td>\n",
       "      <td>NaN</td>\n",
       "      <td>NaN</td>\n",
       "      <td>NaN</td>\n",
       "      <td>NaN</td>\n",
       "      <td>NaN</td>\n",
       "      <td>NaN</td>\n",
       "      <td>NaN</td>\n",
       "      <td>NaN</td>\n",
       "    </tr>\n",
       "  </tbody>\n",
       "</table>\n",
       "</div>"
      ],
      "text/plain": [
       "                      ID VICTIMA  CANT_VICTIMA FECHA  AÑO  MES  DIA HORA  \\\n",
       "11790  PNA-2019-0005246       sd           NaN   NaN  NaN  NaN  NaN  NaN   \n",
       "16186    HC-2020-0499647    AUTO           NaN   NaN  NaN  NaN  NaN  NaN   \n",
       "16187    HC-2020-0499647    AUTO           NaN   NaN  NaN  NaN  NaN  NaN   \n",
       "16188    HC-2020-0499647    AUTO           NaN   NaN  NaN  NaN  NaN  NaN   \n",
       "22821    HC-2021-0147160      SD           NaN   NaN  NaN  NaN  NaN  NaN   \n",
       "22822    HC-2021-0147160      SD           NaN   NaN  NaN  NaN  NaN  NaN   \n",
       "26799    HC-2021-0167039  PEATON           NaN   NaN  NaN  NaN  NaN  NaN   \n",
       "\n",
       "      COMUNA LONGITUD LATITUD TIPO_CALLE ACUSADO  \n",
       "11790    NaN      NaN     NaN        NaN     NaN  \n",
       "16186    NaN      NaN     NaN        NaN     NaN  \n",
       "16187    NaN      NaN     NaN        NaN     NaN  \n",
       "16188    NaN      NaN     NaN        NaN     NaN  \n",
       "22821    NaN      NaN     NaN        NaN     NaN  \n",
       "22822    NaN      NaN     NaN        NaN     NaN  \n",
       "26799    NaN      NaN     NaN        NaN     NaN  "
      ]
     },
     "execution_count": 51,
     "metadata": {},
     "output_type": "execute_result"
    }
   ],
   "source": [
    "registros_nulos_anio = df_lesiones[df_lesiones['FECHA'].isnull()]\n",
    "registros_nulos_anio"
   ]
  },
  {
   "cell_type": "code",
   "execution_count": 52,
   "metadata": {},
   "outputs": [],
   "source": [
    "# Elimina las filas con valores nulos en la columna 'FECHA'\n",
    "df_lesiones = df_lesiones.dropna(subset=['FECHA'])"
   ]
  },
  {
   "cell_type": "code",
   "execution_count": 53,
   "metadata": {},
   "outputs": [
    {
     "data": {
      "text/html": [
       "<div>\n",
       "<style scoped>\n",
       "    .dataframe tbody tr th:only-of-type {\n",
       "        vertical-align: middle;\n",
       "    }\n",
       "\n",
       "    .dataframe tbody tr th {\n",
       "        vertical-align: top;\n",
       "    }\n",
       "\n",
       "    .dataframe thead th {\n",
       "        text-align: right;\n",
       "    }\n",
       "</style>\n",
       "<table border=\"1\" class=\"dataframe\">\n",
       "  <thead>\n",
       "    <tr style=\"text-align: right;\">\n",
       "      <th></th>\n",
       "      <th>Columna</th>\n",
       "      <th>Tipo</th>\n",
       "      <th>NO_nulos_%</th>\n",
       "      <th>Nulos_%</th>\n",
       "      <th>Nulos</th>\n",
       "    </tr>\n",
       "  </thead>\n",
       "  <tbody>\n",
       "    <tr>\n",
       "      <th>0</th>\n",
       "      <td>ID</td>\n",
       "      <td>[&lt;class 'str'&gt;]</td>\n",
       "      <td>100.00</td>\n",
       "      <td>0.00</td>\n",
       "      <td>0</td>\n",
       "    </tr>\n",
       "    <tr>\n",
       "      <th>1</th>\n",
       "      <td>VICTIMA</td>\n",
       "      <td>[&lt;class 'str'&gt;]</td>\n",
       "      <td>100.00</td>\n",
       "      <td>0.00</td>\n",
       "      <td>0</td>\n",
       "    </tr>\n",
       "    <tr>\n",
       "      <th>2</th>\n",
       "      <td>CANT_VICTIMA</td>\n",
       "      <td>[&lt;class 'float'&gt;]</td>\n",
       "      <td>100.00</td>\n",
       "      <td>0.00</td>\n",
       "      <td>0</td>\n",
       "    </tr>\n",
       "    <tr>\n",
       "      <th>3</th>\n",
       "      <td>FECHA</td>\n",
       "      <td>[&lt;class 'datetime.datetime'&gt;, &lt;class 'str'&gt;]</td>\n",
       "      <td>100.00</td>\n",
       "      <td>0.00</td>\n",
       "      <td>0</td>\n",
       "    </tr>\n",
       "    <tr>\n",
       "      <th>4</th>\n",
       "      <td>AÑO</td>\n",
       "      <td>[&lt;class 'float'&gt;]</td>\n",
       "      <td>100.00</td>\n",
       "      <td>0.00</td>\n",
       "      <td>0</td>\n",
       "    </tr>\n",
       "    <tr>\n",
       "      <th>5</th>\n",
       "      <td>MES</td>\n",
       "      <td>[&lt;class 'float'&gt;]</td>\n",
       "      <td>100.00</td>\n",
       "      <td>0.00</td>\n",
       "      <td>0</td>\n",
       "    </tr>\n",
       "    <tr>\n",
       "      <th>6</th>\n",
       "      <td>DIA</td>\n",
       "      <td>[&lt;class 'float'&gt;]</td>\n",
       "      <td>100.00</td>\n",
       "      <td>0.00</td>\n",
       "      <td>0</td>\n",
       "    </tr>\n",
       "    <tr>\n",
       "      <th>7</th>\n",
       "      <td>HORA</td>\n",
       "      <td>[&lt;class 'int'&gt;, &lt;class 'str'&gt;, &lt;class 'float'&gt;]</td>\n",
       "      <td>99.98</td>\n",
       "      <td>0.02</td>\n",
       "      <td>5</td>\n",
       "    </tr>\n",
       "    <tr>\n",
       "      <th>8</th>\n",
       "      <td>COMUNA</td>\n",
       "      <td>[&lt;class 'int'&gt;, &lt;class 'str'&gt;, &lt;class 'float'&gt;]</td>\n",
       "      <td>99.36</td>\n",
       "      <td>0.64</td>\n",
       "      <td>178</td>\n",
       "    </tr>\n",
       "    <tr>\n",
       "      <th>9</th>\n",
       "      <td>LONGITUD</td>\n",
       "      <td>[&lt;class 'str'&gt;, &lt;class 'float'&gt;, &lt;class 'int'&gt;]</td>\n",
       "      <td>99.02</td>\n",
       "      <td>0.98</td>\n",
       "      <td>270</td>\n",
       "    </tr>\n",
       "    <tr>\n",
       "      <th>10</th>\n",
       "      <td>LATITUD</td>\n",
       "      <td>[&lt;class 'str'&gt;, &lt;class 'float'&gt;, &lt;class 'int'&gt;]</td>\n",
       "      <td>99.02</td>\n",
       "      <td>0.98</td>\n",
       "      <td>270</td>\n",
       "    </tr>\n",
       "    <tr>\n",
       "      <th>11</th>\n",
       "      <td>TIPO_CALLE</td>\n",
       "      <td>[&lt;class 'str'&gt;]</td>\n",
       "      <td>100.00</td>\n",
       "      <td>0.00</td>\n",
       "      <td>0</td>\n",
       "    </tr>\n",
       "    <tr>\n",
       "      <th>12</th>\n",
       "      <td>ACUSADO</td>\n",
       "      <td>[&lt;class 'str'&gt;]</td>\n",
       "      <td>100.00</td>\n",
       "      <td>0.00</td>\n",
       "      <td>0</td>\n",
       "    </tr>\n",
       "  </tbody>\n",
       "</table>\n",
       "</div>"
      ],
      "text/plain": [
       "         Columna                                             Tipo  NO_nulos_%  \\\n",
       "0             ID                                  [<class 'str'>]      100.00   \n",
       "1        VICTIMA                                  [<class 'str'>]      100.00   \n",
       "2   CANT_VICTIMA                                [<class 'float'>]      100.00   \n",
       "3          FECHA     [<class 'datetime.datetime'>, <class 'str'>]      100.00   \n",
       "4            AÑO                                [<class 'float'>]      100.00   \n",
       "5            MES                                [<class 'float'>]      100.00   \n",
       "6            DIA                                [<class 'float'>]      100.00   \n",
       "7           HORA  [<class 'int'>, <class 'str'>, <class 'float'>]       99.98   \n",
       "8         COMUNA  [<class 'int'>, <class 'str'>, <class 'float'>]       99.36   \n",
       "9       LONGITUD  [<class 'str'>, <class 'float'>, <class 'int'>]       99.02   \n",
       "10       LATITUD  [<class 'str'>, <class 'float'>, <class 'int'>]       99.02   \n",
       "11    TIPO_CALLE                                  [<class 'str'>]      100.00   \n",
       "12       ACUSADO                                  [<class 'str'>]      100.00   \n",
       "\n",
       "    Nulos_%  Nulos  \n",
       "0      0.00      0  \n",
       "1      0.00      0  \n",
       "2      0.00      0  \n",
       "3      0.00      0  \n",
       "4      0.00      0  \n",
       "5      0.00      0  \n",
       "6      0.00      0  \n",
       "7      0.02      5  \n",
       "8      0.64    178  \n",
       "9      0.98    270  \n",
       "10     0.98    270  \n",
       "11     0.00      0  \n",
       "12     0.00      0  "
      ]
     },
     "execution_count": 53,
     "metadata": {},
     "output_type": "execute_result"
    }
   ],
   "source": [
    "funciones.verificar_tipo_datos(df_lesiones)"
   ]
  },
  {
   "cell_type": "markdown",
   "metadata": {},
   "source": [
    "_____________"
   ]
  },
  {
   "cell_type": "markdown",
   "metadata": {},
   "source": [
    "## Cambio de formatos"
   ]
  },
  {
   "cell_type": "markdown",
   "metadata": {},
   "source": [
    "### -  Columna FECHA"
   ]
  },
  {
   "cell_type": "code",
   "execution_count": 54,
   "metadata": {},
   "outputs": [
    {
     "name": "stdout",
     "output_type": "stream",
     "text": [
      "[datetime.datetime(2019, 1, 1, 0, 0) datetime.datetime(2019, 1, 2, 0, 0)\n",
      " datetime.datetime(2019, 9, 1, 0, 0) ...\n",
      " datetime.datetime(2021, 1, 30, 0, 0) datetime.datetime(2021, 5, 17, 0, 0)\n",
      " datetime.datetime(2021, 2, 15, 0, 0)]\n"
     ]
    }
   ],
   "source": [
    "fechas_unicas = df_lesiones['FECHA'].unique()\n",
    "print(fechas_unicas)\n"
   ]
  },
  {
   "cell_type": "code",
   "execution_count": 55,
   "metadata": {},
   "outputs": [],
   "source": [
    "# Se cambia el tipo de dato de la columna FECHA a datatime\n",
    "df_lesiones['FECHA'] = pd.to_datetime(df_lesiones['FECHA'])\n"
   ]
  },
  {
   "cell_type": "markdown",
   "metadata": {},
   "source": [
    "### -  Columna AÑO, MES, DIA"
   ]
  },
  {
   "cell_type": "code",
   "execution_count": 56,
   "metadata": {},
   "outputs": [],
   "source": [
    "# Se cambia el tipo de dato a int\n",
    "df_lesiones[['AÑO', 'MES', 'DIA']] = df_lesiones[['AÑO', 'MES', 'DIA']].apply(lambda x: x.astype(int))"
   ]
  },
  {
   "cell_type": "markdown",
   "metadata": {},
   "source": [
    "### - Columna Hora"
   ]
  },
  {
   "cell_type": "markdown",
   "metadata": {},
   "source": [
    "Se verifican los valores que toma"
   ]
  },
  {
   "cell_type": "code",
   "execution_count": 57,
   "metadata": {},
   "outputs": [
    {
     "name": "stdout",
     "output_type": "stream",
     "text": [
      "[1 2 4 8 7 9 12 13 19 18 21 3 20 14 5 15 17 23 10 16 11 22 0 6 'sd' nan]\n"
     ]
    }
   ],
   "source": [
    "# Se comprueba los valores unicos que toma esta variable\n",
    "hora_unicas = df_lesiones['HORA'].unique()\n",
    "print(hora_unicas)\n"
   ]
  },
  {
   "cell_type": "markdown",
   "metadata": {},
   "source": [
    "Se eliminan los valores = 'sd' y NaN"
   ]
  },
  {
   "cell_type": "code",
   "execution_count": 58,
   "metadata": {},
   "outputs": [],
   "source": [
    "# Se elimina el dato SD\n",
    "df_lesiones = df_lesiones[df_lesiones['HORA'] != 'sd']"
   ]
  },
  {
   "cell_type": "code",
   "execution_count": 59,
   "metadata": {},
   "outputs": [],
   "source": [
    "# Se elimina el dato Nan\n",
    "df_lesiones = df_lesiones.dropna(subset=['HORA'])"
   ]
  },
  {
   "cell_type": "markdown",
   "metadata": {},
   "source": [
    "Se pasa a tipo int la columna"
   ]
  },
  {
   "cell_type": "code",
   "execution_count": 60,
   "metadata": {},
   "outputs": [],
   "source": [
    "# Se pasa a tipo int\n",
    "df_lesiones['HORA'] = df_lesiones['HORA'].astype(int)\n"
   ]
  },
  {
   "cell_type": "code",
   "execution_count": 61,
   "metadata": {},
   "outputs": [
    {
     "data": {
      "text/html": [
       "<div>\n",
       "<style scoped>\n",
       "    .dataframe tbody tr th:only-of-type {\n",
       "        vertical-align: middle;\n",
       "    }\n",
       "\n",
       "    .dataframe tbody tr th {\n",
       "        vertical-align: top;\n",
       "    }\n",
       "\n",
       "    .dataframe thead th {\n",
       "        text-align: right;\n",
       "    }\n",
       "</style>\n",
       "<table border=\"1\" class=\"dataframe\">\n",
       "  <thead>\n",
       "    <tr style=\"text-align: right;\">\n",
       "      <th></th>\n",
       "      <th>Columna</th>\n",
       "      <th>Tipo</th>\n",
       "      <th>NO_nulos_%</th>\n",
       "      <th>Nulos_%</th>\n",
       "      <th>Nulos</th>\n",
       "    </tr>\n",
       "  </thead>\n",
       "  <tbody>\n",
       "    <tr>\n",
       "      <th>0</th>\n",
       "      <td>ID</td>\n",
       "      <td>[&lt;class 'str'&gt;]</td>\n",
       "      <td>100.00</td>\n",
       "      <td>0.00</td>\n",
       "      <td>0</td>\n",
       "    </tr>\n",
       "    <tr>\n",
       "      <th>1</th>\n",
       "      <td>VICTIMA</td>\n",
       "      <td>[&lt;class 'str'&gt;]</td>\n",
       "      <td>100.00</td>\n",
       "      <td>0.00</td>\n",
       "      <td>0</td>\n",
       "    </tr>\n",
       "    <tr>\n",
       "      <th>2</th>\n",
       "      <td>CANT_VICTIMA</td>\n",
       "      <td>[&lt;class 'float'&gt;]</td>\n",
       "      <td>100.00</td>\n",
       "      <td>0.00</td>\n",
       "      <td>0</td>\n",
       "    </tr>\n",
       "    <tr>\n",
       "      <th>3</th>\n",
       "      <td>FECHA</td>\n",
       "      <td>[&lt;class 'pandas._libs.tslibs.timestamps.Timest...</td>\n",
       "      <td>100.00</td>\n",
       "      <td>0.00</td>\n",
       "      <td>0</td>\n",
       "    </tr>\n",
       "    <tr>\n",
       "      <th>4</th>\n",
       "      <td>AÑO</td>\n",
       "      <td>[&lt;class 'int'&gt;]</td>\n",
       "      <td>100.00</td>\n",
       "      <td>0.00</td>\n",
       "      <td>0</td>\n",
       "    </tr>\n",
       "    <tr>\n",
       "      <th>5</th>\n",
       "      <td>MES</td>\n",
       "      <td>[&lt;class 'int'&gt;]</td>\n",
       "      <td>100.00</td>\n",
       "      <td>0.00</td>\n",
       "      <td>0</td>\n",
       "    </tr>\n",
       "    <tr>\n",
       "      <th>6</th>\n",
       "      <td>DIA</td>\n",
       "      <td>[&lt;class 'int'&gt;]</td>\n",
       "      <td>100.00</td>\n",
       "      <td>0.00</td>\n",
       "      <td>0</td>\n",
       "    </tr>\n",
       "    <tr>\n",
       "      <th>7</th>\n",
       "      <td>HORA</td>\n",
       "      <td>[&lt;class 'int'&gt;]</td>\n",
       "      <td>100.00</td>\n",
       "      <td>0.00</td>\n",
       "      <td>0</td>\n",
       "    </tr>\n",
       "    <tr>\n",
       "      <th>8</th>\n",
       "      <td>COMUNA</td>\n",
       "      <td>[&lt;class 'int'&gt;, &lt;class 'str'&gt;, &lt;class 'float'&gt;]</td>\n",
       "      <td>99.36</td>\n",
       "      <td>0.64</td>\n",
       "      <td>176</td>\n",
       "    </tr>\n",
       "    <tr>\n",
       "      <th>9</th>\n",
       "      <td>LONGITUD</td>\n",
       "      <td>[&lt;class 'str'&gt;, &lt;class 'float'&gt;, &lt;class 'int'&gt;]</td>\n",
       "      <td>99.03</td>\n",
       "      <td>0.97</td>\n",
       "      <td>268</td>\n",
       "    </tr>\n",
       "    <tr>\n",
       "      <th>10</th>\n",
       "      <td>LATITUD</td>\n",
       "      <td>[&lt;class 'str'&gt;, &lt;class 'float'&gt;, &lt;class 'int'&gt;]</td>\n",
       "      <td>99.03</td>\n",
       "      <td>0.97</td>\n",
       "      <td>268</td>\n",
       "    </tr>\n",
       "    <tr>\n",
       "      <th>11</th>\n",
       "      <td>TIPO_CALLE</td>\n",
       "      <td>[&lt;class 'str'&gt;]</td>\n",
       "      <td>100.00</td>\n",
       "      <td>0.00</td>\n",
       "      <td>0</td>\n",
       "    </tr>\n",
       "    <tr>\n",
       "      <th>12</th>\n",
       "      <td>ACUSADO</td>\n",
       "      <td>[&lt;class 'str'&gt;]</td>\n",
       "      <td>100.00</td>\n",
       "      <td>0.00</td>\n",
       "      <td>0</td>\n",
       "    </tr>\n",
       "  </tbody>\n",
       "</table>\n",
       "</div>"
      ],
      "text/plain": [
       "         Columna                                               Tipo  \\\n",
       "0             ID                                    [<class 'str'>]   \n",
       "1        VICTIMA                                    [<class 'str'>]   \n",
       "2   CANT_VICTIMA                                  [<class 'float'>]   \n",
       "3          FECHA  [<class 'pandas._libs.tslibs.timestamps.Timest...   \n",
       "4            AÑO                                    [<class 'int'>]   \n",
       "5            MES                                    [<class 'int'>]   \n",
       "6            DIA                                    [<class 'int'>]   \n",
       "7           HORA                                    [<class 'int'>]   \n",
       "8         COMUNA    [<class 'int'>, <class 'str'>, <class 'float'>]   \n",
       "9       LONGITUD    [<class 'str'>, <class 'float'>, <class 'int'>]   \n",
       "10       LATITUD    [<class 'str'>, <class 'float'>, <class 'int'>]   \n",
       "11    TIPO_CALLE                                    [<class 'str'>]   \n",
       "12       ACUSADO                                    [<class 'str'>]   \n",
       "\n",
       "    NO_nulos_%  Nulos_%  Nulos  \n",
       "0       100.00     0.00      0  \n",
       "1       100.00     0.00      0  \n",
       "2       100.00     0.00      0  \n",
       "3       100.00     0.00      0  \n",
       "4       100.00     0.00      0  \n",
       "5       100.00     0.00      0  \n",
       "6       100.00     0.00      0  \n",
       "7       100.00     0.00      0  \n",
       "8        99.36     0.64    176  \n",
       "9        99.03     0.97    268  \n",
       "10       99.03     0.97    268  \n",
       "11      100.00     0.00      0  \n",
       "12      100.00     0.00      0  "
      ]
     },
     "execution_count": 61,
     "metadata": {},
     "output_type": "execute_result"
    }
   ],
   "source": [
    "funciones.verificar_tipo_datos(df_lesiones)"
   ]
  },
  {
   "cell_type": "markdown",
   "metadata": {},
   "source": [
    "________________________________"
   ]
  },
  {
   "cell_type": "code",
   "execution_count": 62,
   "metadata": {},
   "outputs": [],
   "source": [
    "# Se ordenan las columnas para mejorar la visual de los datos\n",
    "columnas_ordenadas = ['ID', 'FECHA', 'AÑO', 'MES', 'DIA', 'HORA', 'COMUNA', 'LONGITUD', 'LATITUD', 'TIPO_CALLE', 'ACUSADO', 'VICTIMA', 'CANT_VICTIMA']\n",
    "df_lesiones = df_lesiones[columnas_ordenadas]\n"
   ]
  },
  {
   "cell_type": "markdown",
   "metadata": {},
   "source": [
    "________________________________"
   ]
  },
  {
   "cell_type": "markdown",
   "metadata": {},
   "source": [
    "### <center>Se almacena en un archivos csv</center>"
   ]
  },
  {
   "cell_type": "code",
   "execution_count": 63,
   "metadata": {},
   "outputs": [
    {
     "name": "stdout",
     "output_type": "stream",
     "text": [
      "Se guardó el archivo ..\\CSV\\lesiones.csv\n"
     ]
    }
   ],
   "source": [
    "# Se construye la ruta completa al archivo CSV desde la ubicación del notebook\n",
    "lesiones = os.path.join('..', 'CSV', 'lesiones.csv')\n",
    "\n",
    "# Se guarda el DataFrame en el archivo CSV\n",
    "df_lesiones.to_csv(lesiones, index=False, encoding='utf-8')\n",
    "\n",
    "# Se emite un mensaje que se guardó\n",
    "print(f'Se guardó el archivo {lesiones}')"
   ]
  }
 ],
 "metadata": {
  "kernelspec": {
   "display_name": "Python 3",
   "language": "python",
   "name": "python3"
  },
  "language_info": {
   "codemirror_mode": {
    "name": "ipython",
    "version": 3
   },
   "file_extension": ".py",
   "mimetype": "text/x-python",
   "name": "python",
   "nbconvert_exporter": "python",
   "pygments_lexer": "ipython3",
   "version": "3.11.6"
  }
 },
 "nbformat": 4,
 "nbformat_minor": 2
}
