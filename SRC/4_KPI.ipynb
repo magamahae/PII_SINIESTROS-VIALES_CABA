{
 "cells": [
  {
   "cell_type": "markdown",
   "metadata": {},
   "source": [
    "# <center>KPIs\n",
    "## <center> - Clave de Desempeño -"
   ]
  },
  {
   "cell_type": "markdown",
   "metadata": {},
   "source": [
    "Es un <b>indicador de desempeño</b>, respecto de un <b>objetivo</b> propuesto por una organización, para medir dicho desempeño se utilizan medidas numéricas denominadas <b>métricas</b>, en relación con los objetivos preestablecidos. Los KPI son utilizados para medir el progreso y el éxito en áreas clave como ventas, productividad, rentabilidad, eficiencia y satisfacción del cliente.\n"
   ]
  },
  {
   "cell_type": "markdown",
   "metadata": {},
   "source": [
    "## KPI I"
   ]
  },
  {
   "cell_type": "markdown",
   "metadata": {},
   "source": [
    "Reducir en un 10% la tasa de homicidios en siniestros viales de los últimos seis meses, en CABA, en comparación con la tasa de homicidios en siniestros viales del semestre anterior.\n",
    "\n",
    "Definimos a la tasa de homicidios en siniestros viales como el número de víctimas fatales en accidentes de tránsito por cada 100,000 habitantes en un área geográfica durante un período de tiempo específico.\n",
    "Su fórmula es: (Número de homicidios en siniestros viales / Población total) * 100,000"
   ]
  },
  {
   "cell_type": "markdown",
   "metadata": {},
   "source": [
    "___________________________"
   ]
  },
  {
   "cell_type": "markdown",
   "metadata": {},
   "source": [
    "### <center>Importar Librerias</center>"
   ]
  },
  {
   "cell_type": "code",
   "execution_count": 1,
   "metadata": {},
   "outputs": [],
   "source": [
    "import pandas as pd\n",
    "import matplotlib.pyplot as plt\n",
    "import os\n",
    "\n",
    "import warnings\n",
    "warnings.filterwarnings(\"ignore\")"
   ]
  },
  {
   "cell_type": "markdown",
   "metadata": {},
   "source": [
    "__________________"
   ]
  },
  {
   "cell_type": "markdown",
   "metadata": {},
   "source": [
    "### <center>Extracción de datos</center>"
   ]
  },
  {
   "cell_type": "code",
   "execution_count": 2,
   "metadata": {},
   "outputs": [],
   "source": [
    "#Se pasa dirección del archivo\n",
    "archivo = os.path.join('..', 'CSV', 'siniestros_t.csv')\n",
    "\n",
    "#Se extraen archivo \n",
    "df_siniestros = pd.read_csv(archivo)"
   ]
  },
  {
   "cell_type": "code",
   "execution_count": 3,
   "metadata": {},
   "outputs": [],
   "source": [
    "#Se pasa dirección del archivo\n",
    "archivo = os.path.join('..', 'CSV', 'datos_poblacion.csv')\n",
    "\n",
    "#Se extraen archivo \n",
    "df_poblacion = pd.read_csv(archivo)"
   ]
  },
  {
   "cell_type": "markdown",
   "metadata": {},
   "source": [
    "________________________"
   ]
  },
  {
   "cell_type": "code",
   "execution_count": 4,
   "metadata": {},
   "outputs": [
    {
     "data": {
      "text/html": [
       "<div>\n",
       "<style scoped>\n",
       "    .dataframe tbody tr th:only-of-type {\n",
       "        vertical-align: middle;\n",
       "    }\n",
       "\n",
       "    .dataframe tbody tr th {\n",
       "        vertical-align: top;\n",
       "    }\n",
       "\n",
       "    .dataframe thead th {\n",
       "        text-align: right;\n",
       "    }\n",
       "</style>\n",
       "<table border=\"1\" class=\"dataframe\">\n",
       "  <thead>\n",
       "    <tr style=\"text-align: right;\">\n",
       "      <th></th>\n",
       "      <th>Jurisdicción</th>\n",
       "      <th>Año 2015</th>\n",
       "      <th>Año 2020</th>\n",
       "    </tr>\n",
       "  </thead>\n",
       "  <tbody>\n",
       "    <tr>\n",
       "      <th>0</th>\n",
       "      <td>Ciudad Autónoma de Buenos Aires</td>\n",
       "      <td>3054267</td>\n",
       "      <td>3075646</td>\n",
       "    </tr>\n",
       "  </tbody>\n",
       "</table>\n",
       "</div>"
      ],
      "text/plain": [
       "                      Jurisdicción  Año 2015  Año 2020\n",
       "0  Ciudad Autónoma de Buenos Aires   3054267   3075646"
      ]
     },
     "execution_count": 4,
     "metadata": {},
     "output_type": "execute_result"
    }
   ],
   "source": [
    "df_poblacion.head(2)"
   ]
  },
  {
   "cell_type": "code",
   "execution_count": 5,
   "metadata": {},
   "outputs": [
    {
     "name": "stdout",
     "output_type": "stream",
     "text": [
      "Promedio de todos los valores para Ciudad Autónoma de Buenos Aires:\n",
      "3064956\n"
     ]
    }
   ],
   "source": [
    "# Calcula el promedio de todos los valores numéricos en el DataFrame\n",
    "promedio_total = round(df_poblacion[['Año 2015', 'Año 2020']].stack().astype(float).mean())\n",
    "\n",
    "# Imprime el resultado\n",
    "print(\"Promedio de todos los valores para Ciudad Autónoma de Buenos Aires:\")\n",
    "print(promedio_total)"
   ]
  },
  {
   "cell_type": "markdown",
   "metadata": {},
   "source": [
    "______________________"
   ]
  },
  {
   "cell_type": "markdown",
   "metadata": {},
   "source": [
    "Se crea columna SEMESTRE para su comparacion"
   ]
  },
  {
   "cell_type": "code",
   "execution_count": 6,
   "metadata": {},
   "outputs": [],
   "source": [
    "def determinar_semestre(mes):\n",
    "    if mes <= 6:\n",
    "        return 1\n",
    "    else:\n",
    "        return 2\n",
    "\n",
    "\n",
    "df_siniestros[\"SEMESTRE\"] = df_siniestros[\"MES\"].apply(determinar_semestre)"
   ]
  },
  {
   "cell_type": "code",
   "execution_count": 7,
   "metadata": {},
   "outputs": [
    {
     "name": "stdout",
     "output_type": "stream",
     "text": [
      "Se guardó el archivo ..\\CSV\\siniestros_t.csv\n"
     ]
    }
   ],
   "source": [
    "# Se construye la ruta completa al archivo CSV desde la ubicación del notebook\n",
    "siniestros = os.path.join('..', 'CSV', 'siniestros_t.csv')\n",
    "\n",
    "# Se guarda el DataFrame en el archivo CSV\n",
    "df_siniestros.to_csv(siniestros, index=False, encoding='utf-8')\n",
    "\n",
    "# Se emite un mensaje que se guardó\n",
    "print(f'Se guardó el archivo {siniestros}')"
   ]
  },
  {
   "cell_type": "markdown",
   "metadata": {},
   "source": [
    "Se agrupa por año y semestre y se contabiliza la cantidad de victimas en la columna FATALES"
   ]
  },
  {
   "cell_type": "code",
   "execution_count": 8,
   "metadata": {},
   "outputs": [
    {
     "data": {
      "text/html": [
       "<div>\n",
       "<style scoped>\n",
       "    .dataframe tbody tr th:only-of-type {\n",
       "        vertical-align: middle;\n",
       "    }\n",
       "\n",
       "    .dataframe tbody tr th {\n",
       "        vertical-align: top;\n",
       "    }\n",
       "\n",
       "    .dataframe thead th {\n",
       "        text-align: right;\n",
       "    }\n",
       "</style>\n",
       "<table border=\"1\" class=\"dataframe\">\n",
       "  <thead>\n",
       "    <tr style=\"text-align: right;\">\n",
       "      <th></th>\n",
       "      <th>AÑO</th>\n",
       "      <th>SEMESTRE</th>\n",
       "      <th>ACTUAL</th>\n",
       "    </tr>\n",
       "  </thead>\n",
       "  <tbody>\n",
       "    <tr>\n",
       "      <th>0</th>\n",
       "      <td>2016</td>\n",
       "      <td>1</td>\n",
       "      <td>67</td>\n",
       "    </tr>\n",
       "    <tr>\n",
       "      <th>1</th>\n",
       "      <td>2016</td>\n",
       "      <td>2</td>\n",
       "      <td>82</td>\n",
       "    </tr>\n",
       "    <tr>\n",
       "      <th>2</th>\n",
       "      <td>2017</td>\n",
       "      <td>1</td>\n",
       "      <td>81</td>\n",
       "    </tr>\n",
       "    <tr>\n",
       "      <th>3</th>\n",
       "      <td>2017</td>\n",
       "      <td>2</td>\n",
       "      <td>79</td>\n",
       "    </tr>\n",
       "    <tr>\n",
       "      <th>4</th>\n",
       "      <td>2018</td>\n",
       "      <td>1</td>\n",
       "      <td>76</td>\n",
       "    </tr>\n",
       "    <tr>\n",
       "      <th>5</th>\n",
       "      <td>2018</td>\n",
       "      <td>2</td>\n",
       "      <td>85</td>\n",
       "    </tr>\n",
       "    <tr>\n",
       "      <th>6</th>\n",
       "      <td>2019</td>\n",
       "      <td>1</td>\n",
       "      <td>59</td>\n",
       "    </tr>\n",
       "    <tr>\n",
       "      <th>7</th>\n",
       "      <td>2019</td>\n",
       "      <td>2</td>\n",
       "      <td>46</td>\n",
       "    </tr>\n",
       "    <tr>\n",
       "      <th>8</th>\n",
       "      <td>2020</td>\n",
       "      <td>1</td>\n",
       "      <td>31</td>\n",
       "    </tr>\n",
       "    <tr>\n",
       "      <th>9</th>\n",
       "      <td>2020</td>\n",
       "      <td>2</td>\n",
       "      <td>56</td>\n",
       "    </tr>\n",
       "    <tr>\n",
       "      <th>10</th>\n",
       "      <td>2021</td>\n",
       "      <td>1</td>\n",
       "      <td>55</td>\n",
       "    </tr>\n",
       "    <tr>\n",
       "      <th>11</th>\n",
       "      <td>2021</td>\n",
       "      <td>2</td>\n",
       "      <td>42</td>\n",
       "    </tr>\n",
       "  </tbody>\n",
       "</table>\n",
       "</div>"
      ],
      "text/plain": [
       "     AÑO  SEMESTRE  ACTUAL\n",
       "0   2016         1      67\n",
       "1   2016         2      82\n",
       "2   2017         1      81\n",
       "3   2017         2      79\n",
       "4   2018         1      76\n",
       "5   2018         2      85\n",
       "6   2019         1      59\n",
       "7   2019         2      46\n",
       "8   2020         1      31\n",
       "9   2020         2      56\n",
       "10  2021         1      55\n",
       "11  2021         2      42"
      ]
     },
     "execution_count": 8,
     "metadata": {},
     "output_type": "execute_result"
    }
   ],
   "source": [
    "df_kpi_1 = df_siniestros.groupby([\"AÑO\", \"SEMESTRE\"])[\"CANT_VICTIMAS\"].sum().reset_index(name='ACTUAL')\n",
    "df_kpi_1"
   ]
  },
  {
   "cell_type": "markdown",
   "metadata": {},
   "source": [
    "Se crea columna SEMESTRE_ANTERIOR que obtiene el dato de cantidad de HOMICIDIOS del semestre anterior"
   ]
  },
  {
   "cell_type": "code",
   "execution_count": 9,
   "metadata": {},
   "outputs": [
    {
     "data": {
      "text/html": [
       "<div>\n",
       "<style scoped>\n",
       "    .dataframe tbody tr th:only-of-type {\n",
       "        vertical-align: middle;\n",
       "    }\n",
       "\n",
       "    .dataframe tbody tr th {\n",
       "        vertical-align: top;\n",
       "    }\n",
       "\n",
       "    .dataframe thead th {\n",
       "        text-align: right;\n",
       "    }\n",
       "</style>\n",
       "<table border=\"1\" class=\"dataframe\">\n",
       "  <thead>\n",
       "    <tr style=\"text-align: right;\">\n",
       "      <th></th>\n",
       "      <th>AÑO</th>\n",
       "      <th>SEMESTRE</th>\n",
       "      <th>ACTUAL</th>\n",
       "      <th>ANTERIOR</th>\n",
       "    </tr>\n",
       "  </thead>\n",
       "  <tbody>\n",
       "    <tr>\n",
       "      <th>0</th>\n",
       "      <td>2016</td>\n",
       "      <td>1</td>\n",
       "      <td>67</td>\n",
       "      <td>0</td>\n",
       "    </tr>\n",
       "    <tr>\n",
       "      <th>1</th>\n",
       "      <td>2016</td>\n",
       "      <td>2</td>\n",
       "      <td>82</td>\n",
       "      <td>67</td>\n",
       "    </tr>\n",
       "    <tr>\n",
       "      <th>2</th>\n",
       "      <td>2017</td>\n",
       "      <td>1</td>\n",
       "      <td>81</td>\n",
       "      <td>82</td>\n",
       "    </tr>\n",
       "    <tr>\n",
       "      <th>3</th>\n",
       "      <td>2017</td>\n",
       "      <td>2</td>\n",
       "      <td>79</td>\n",
       "      <td>81</td>\n",
       "    </tr>\n",
       "    <tr>\n",
       "      <th>4</th>\n",
       "      <td>2018</td>\n",
       "      <td>1</td>\n",
       "      <td>76</td>\n",
       "      <td>79</td>\n",
       "    </tr>\n",
       "    <tr>\n",
       "      <th>5</th>\n",
       "      <td>2018</td>\n",
       "      <td>2</td>\n",
       "      <td>85</td>\n",
       "      <td>76</td>\n",
       "    </tr>\n",
       "    <tr>\n",
       "      <th>6</th>\n",
       "      <td>2019</td>\n",
       "      <td>1</td>\n",
       "      <td>59</td>\n",
       "      <td>85</td>\n",
       "    </tr>\n",
       "    <tr>\n",
       "      <th>7</th>\n",
       "      <td>2019</td>\n",
       "      <td>2</td>\n",
       "      <td>46</td>\n",
       "      <td>59</td>\n",
       "    </tr>\n",
       "    <tr>\n",
       "      <th>8</th>\n",
       "      <td>2020</td>\n",
       "      <td>1</td>\n",
       "      <td>31</td>\n",
       "      <td>46</td>\n",
       "    </tr>\n",
       "    <tr>\n",
       "      <th>9</th>\n",
       "      <td>2020</td>\n",
       "      <td>2</td>\n",
       "      <td>56</td>\n",
       "      <td>31</td>\n",
       "    </tr>\n",
       "    <tr>\n",
       "      <th>10</th>\n",
       "      <td>2021</td>\n",
       "      <td>1</td>\n",
       "      <td>55</td>\n",
       "      <td>56</td>\n",
       "    </tr>\n",
       "    <tr>\n",
       "      <th>11</th>\n",
       "      <td>2021</td>\n",
       "      <td>2</td>\n",
       "      <td>42</td>\n",
       "      <td>55</td>\n",
       "    </tr>\n",
       "  </tbody>\n",
       "</table>\n",
       "</div>"
      ],
      "text/plain": [
       "     AÑO  SEMESTRE  ACTUAL  ANTERIOR\n",
       "0   2016         1      67         0\n",
       "1   2016         2      82        67\n",
       "2   2017         1      81        82\n",
       "3   2017         2      79        81\n",
       "4   2018         1      76        79\n",
       "5   2018         2      85        76\n",
       "6   2019         1      59        85\n",
       "7   2019         2      46        59\n",
       "8   2020         1      31        46\n",
       "9   2020         2      56        31\n",
       "10  2021         1      55        56\n",
       "11  2021         2      42        55"
      ]
     },
     "execution_count": 9,
     "metadata": {},
     "output_type": "execute_result"
    }
   ],
   "source": [
    "df_kpi_1['ANTERIOR'] = df_kpi_1['ACTUAL'].shift(periods=1, fill_value=0)\n",
    "df_kpi_1"
   ]
  },
  {
   "cell_type": "markdown",
   "metadata": {},
   "source": [
    "La población en CABA según el scrapping realizado es de 3064956 habitantes. Asignación de tasa de homicidios cada 100000 habitantes"
   ]
  },
  {
   "cell_type": "code",
   "execution_count": 10,
   "metadata": {},
   "outputs": [],
   "source": [
    "df_kpi_1['TASA_ACTUAL'] = (df_kpi_1['ACTUAL']/promedio_total) * 100000\n",
    "df_kpi_1['TASA_ANTERIOR'] = (df_kpi_1['ANTERIOR']/promedio_total) * 100000"
   ]
  },
  {
   "cell_type": "code",
   "execution_count": 11,
   "metadata": {},
   "outputs": [
    {
     "data": {
      "text/html": [
       "<div>\n",
       "<style scoped>\n",
       "    .dataframe tbody tr th:only-of-type {\n",
       "        vertical-align: middle;\n",
       "    }\n",
       "\n",
       "    .dataframe tbody tr th {\n",
       "        vertical-align: top;\n",
       "    }\n",
       "\n",
       "    .dataframe thead th {\n",
       "        text-align: right;\n",
       "    }\n",
       "</style>\n",
       "<table border=\"1\" class=\"dataframe\">\n",
       "  <thead>\n",
       "    <tr style=\"text-align: right;\">\n",
       "      <th></th>\n",
       "      <th>AÑO</th>\n",
       "      <th>SEMESTRE</th>\n",
       "      <th>ACTUAL</th>\n",
       "      <th>ANTERIOR</th>\n",
       "      <th>TASA_ACTUAL</th>\n",
       "      <th>TASA_ANTERIOR</th>\n",
       "    </tr>\n",
       "  </thead>\n",
       "  <tbody>\n",
       "    <tr>\n",
       "      <th>0</th>\n",
       "      <td>2016</td>\n",
       "      <td>1</td>\n",
       "      <td>67</td>\n",
       "      <td>0</td>\n",
       "      <td>2.186002</td>\n",
       "      <td>0.000000</td>\n",
       "    </tr>\n",
       "    <tr>\n",
       "      <th>1</th>\n",
       "      <td>2016</td>\n",
       "      <td>2</td>\n",
       "      <td>82</td>\n",
       "      <td>67</td>\n",
       "      <td>2.675405</td>\n",
       "      <td>2.186002</td>\n",
       "    </tr>\n",
       "    <tr>\n",
       "      <th>2</th>\n",
       "      <td>2017</td>\n",
       "      <td>1</td>\n",
       "      <td>81</td>\n",
       "      <td>82</td>\n",
       "      <td>2.642779</td>\n",
       "      <td>2.675405</td>\n",
       "    </tr>\n",
       "    <tr>\n",
       "      <th>3</th>\n",
       "      <td>2017</td>\n",
       "      <td>2</td>\n",
       "      <td>79</td>\n",
       "      <td>81</td>\n",
       "      <td>2.577525</td>\n",
       "      <td>2.642779</td>\n",
       "    </tr>\n",
       "    <tr>\n",
       "      <th>4</th>\n",
       "      <td>2018</td>\n",
       "      <td>1</td>\n",
       "      <td>76</td>\n",
       "      <td>79</td>\n",
       "      <td>2.479644</td>\n",
       "      <td>2.577525</td>\n",
       "    </tr>\n",
       "    <tr>\n",
       "      <th>5</th>\n",
       "      <td>2018</td>\n",
       "      <td>2</td>\n",
       "      <td>85</td>\n",
       "      <td>76</td>\n",
       "      <td>2.773286</td>\n",
       "      <td>2.479644</td>\n",
       "    </tr>\n",
       "    <tr>\n",
       "      <th>6</th>\n",
       "      <td>2019</td>\n",
       "      <td>1</td>\n",
       "      <td>59</td>\n",
       "      <td>85</td>\n",
       "      <td>1.924987</td>\n",
       "      <td>2.773286</td>\n",
       "    </tr>\n",
       "    <tr>\n",
       "      <th>7</th>\n",
       "      <td>2019</td>\n",
       "      <td>2</td>\n",
       "      <td>46</td>\n",
       "      <td>59</td>\n",
       "      <td>1.500837</td>\n",
       "      <td>1.924987</td>\n",
       "    </tr>\n",
       "    <tr>\n",
       "      <th>8</th>\n",
       "      <td>2020</td>\n",
       "      <td>1</td>\n",
       "      <td>31</td>\n",
       "      <td>46</td>\n",
       "      <td>1.011434</td>\n",
       "      <td>1.500837</td>\n",
       "    </tr>\n",
       "    <tr>\n",
       "      <th>9</th>\n",
       "      <td>2020</td>\n",
       "      <td>2</td>\n",
       "      <td>56</td>\n",
       "      <td>31</td>\n",
       "      <td>1.827106</td>\n",
       "      <td>1.011434</td>\n",
       "    </tr>\n",
       "    <tr>\n",
       "      <th>10</th>\n",
       "      <td>2021</td>\n",
       "      <td>1</td>\n",
       "      <td>55</td>\n",
       "      <td>56</td>\n",
       "      <td>1.794479</td>\n",
       "      <td>1.827106</td>\n",
       "    </tr>\n",
       "    <tr>\n",
       "      <th>11</th>\n",
       "      <td>2021</td>\n",
       "      <td>2</td>\n",
       "      <td>42</td>\n",
       "      <td>55</td>\n",
       "      <td>1.370330</td>\n",
       "      <td>1.794479</td>\n",
       "    </tr>\n",
       "  </tbody>\n",
       "</table>\n",
       "</div>"
      ],
      "text/plain": [
       "     AÑO  SEMESTRE  ACTUAL  ANTERIOR  TASA_ACTUAL  TASA_ANTERIOR\n",
       "0   2016         1      67         0     2.186002       0.000000\n",
       "1   2016         2      82        67     2.675405       2.186002\n",
       "2   2017         1      81        82     2.642779       2.675405\n",
       "3   2017         2      79        81     2.577525       2.642779\n",
       "4   2018         1      76        79     2.479644       2.577525\n",
       "5   2018         2      85        76     2.773286       2.479644\n",
       "6   2019         1      59        85     1.924987       2.773286\n",
       "7   2019         2      46        59     1.500837       1.924987\n",
       "8   2020         1      31        46     1.011434       1.500837\n",
       "9   2020         2      56        31     1.827106       1.011434\n",
       "10  2021         1      55        56     1.794479       1.827106\n",
       "11  2021         2      42        55     1.370330       1.794479"
      ]
     },
     "execution_count": 11,
     "metadata": {},
     "output_type": "execute_result"
    }
   ],
   "source": [
    "df_kpi_1"
   ]
  },
  {
   "cell_type": "markdown",
   "metadata": {},
   "source": [
    "Creación de columna Variación Porcentual (%) y asignación de valor = ((Nuevo Valor - Valor Antiguo) / Valor Antiguo) * 100"
   ]
  },
  {
   "cell_type": "code",
   "execution_count": 12,
   "metadata": {},
   "outputs": [
    {
     "data": {
      "text/html": [
       "<div>\n",
       "<style scoped>\n",
       "    .dataframe tbody tr th:only-of-type {\n",
       "        vertical-align: middle;\n",
       "    }\n",
       "\n",
       "    .dataframe tbody tr th {\n",
       "        vertical-align: top;\n",
       "    }\n",
       "\n",
       "    .dataframe thead th {\n",
       "        text-align: right;\n",
       "    }\n",
       "</style>\n",
       "<table border=\"1\" class=\"dataframe\">\n",
       "  <thead>\n",
       "    <tr style=\"text-align: right;\">\n",
       "      <th></th>\n",
       "      <th>AÑO</th>\n",
       "      <th>SEMESTRE</th>\n",
       "      <th>ACTUAL</th>\n",
       "      <th>ANTERIOR</th>\n",
       "      <th>TASA_ACTUAL</th>\n",
       "      <th>TASA_ANTERIOR</th>\n",
       "      <th>VARIACION</th>\n",
       "      <th>VARIACION_TASA</th>\n",
       "    </tr>\n",
       "  </thead>\n",
       "  <tbody>\n",
       "    <tr>\n",
       "      <th>0</th>\n",
       "      <td>2016</td>\n",
       "      <td>1</td>\n",
       "      <td>67</td>\n",
       "      <td>0</td>\n",
       "      <td>2.186002</td>\n",
       "      <td>0.000000</td>\n",
       "      <td>inf</td>\n",
       "      <td>inf</td>\n",
       "    </tr>\n",
       "    <tr>\n",
       "      <th>1</th>\n",
       "      <td>2016</td>\n",
       "      <td>2</td>\n",
       "      <td>82</td>\n",
       "      <td>67</td>\n",
       "      <td>2.675405</td>\n",
       "      <td>2.186002</td>\n",
       "      <td>22.388060</td>\n",
       "      <td>22.388060</td>\n",
       "    </tr>\n",
       "    <tr>\n",
       "      <th>2</th>\n",
       "      <td>2017</td>\n",
       "      <td>1</td>\n",
       "      <td>81</td>\n",
       "      <td>82</td>\n",
       "      <td>2.642779</td>\n",
       "      <td>2.675405</td>\n",
       "      <td>-1.219512</td>\n",
       "      <td>-1.219512</td>\n",
       "    </tr>\n",
       "    <tr>\n",
       "      <th>3</th>\n",
       "      <td>2017</td>\n",
       "      <td>2</td>\n",
       "      <td>79</td>\n",
       "      <td>81</td>\n",
       "      <td>2.577525</td>\n",
       "      <td>2.642779</td>\n",
       "      <td>-2.469136</td>\n",
       "      <td>-2.469136</td>\n",
       "    </tr>\n",
       "    <tr>\n",
       "      <th>4</th>\n",
       "      <td>2018</td>\n",
       "      <td>1</td>\n",
       "      <td>76</td>\n",
       "      <td>79</td>\n",
       "      <td>2.479644</td>\n",
       "      <td>2.577525</td>\n",
       "      <td>-3.797468</td>\n",
       "      <td>-3.797468</td>\n",
       "    </tr>\n",
       "    <tr>\n",
       "      <th>5</th>\n",
       "      <td>2018</td>\n",
       "      <td>2</td>\n",
       "      <td>85</td>\n",
       "      <td>76</td>\n",
       "      <td>2.773286</td>\n",
       "      <td>2.479644</td>\n",
       "      <td>11.842105</td>\n",
       "      <td>11.842105</td>\n",
       "    </tr>\n",
       "    <tr>\n",
       "      <th>6</th>\n",
       "      <td>2019</td>\n",
       "      <td>1</td>\n",
       "      <td>59</td>\n",
       "      <td>85</td>\n",
       "      <td>1.924987</td>\n",
       "      <td>2.773286</td>\n",
       "      <td>-30.588235</td>\n",
       "      <td>-30.588235</td>\n",
       "    </tr>\n",
       "    <tr>\n",
       "      <th>7</th>\n",
       "      <td>2019</td>\n",
       "      <td>2</td>\n",
       "      <td>46</td>\n",
       "      <td>59</td>\n",
       "      <td>1.500837</td>\n",
       "      <td>1.924987</td>\n",
       "      <td>-22.033898</td>\n",
       "      <td>-22.033898</td>\n",
       "    </tr>\n",
       "    <tr>\n",
       "      <th>8</th>\n",
       "      <td>2020</td>\n",
       "      <td>1</td>\n",
       "      <td>31</td>\n",
       "      <td>46</td>\n",
       "      <td>1.011434</td>\n",
       "      <td>1.500837</td>\n",
       "      <td>-32.608696</td>\n",
       "      <td>-32.608696</td>\n",
       "    </tr>\n",
       "    <tr>\n",
       "      <th>9</th>\n",
       "      <td>2020</td>\n",
       "      <td>2</td>\n",
       "      <td>56</td>\n",
       "      <td>31</td>\n",
       "      <td>1.827106</td>\n",
       "      <td>1.011434</td>\n",
       "      <td>80.645161</td>\n",
       "      <td>80.645161</td>\n",
       "    </tr>\n",
       "    <tr>\n",
       "      <th>10</th>\n",
       "      <td>2021</td>\n",
       "      <td>1</td>\n",
       "      <td>55</td>\n",
       "      <td>56</td>\n",
       "      <td>1.794479</td>\n",
       "      <td>1.827106</td>\n",
       "      <td>-1.785714</td>\n",
       "      <td>-1.785714</td>\n",
       "    </tr>\n",
       "    <tr>\n",
       "      <th>11</th>\n",
       "      <td>2021</td>\n",
       "      <td>2</td>\n",
       "      <td>42</td>\n",
       "      <td>55</td>\n",
       "      <td>1.370330</td>\n",
       "      <td>1.794479</td>\n",
       "      <td>-23.636364</td>\n",
       "      <td>-23.636364</td>\n",
       "    </tr>\n",
       "  </tbody>\n",
       "</table>\n",
       "</div>"
      ],
      "text/plain": [
       "     AÑO  SEMESTRE  ACTUAL  ANTERIOR  TASA_ACTUAL  TASA_ANTERIOR  VARIACION  \\\n",
       "0   2016         1      67         0     2.186002       0.000000        inf   \n",
       "1   2016         2      82        67     2.675405       2.186002  22.388060   \n",
       "2   2017         1      81        82     2.642779       2.675405  -1.219512   \n",
       "3   2017         2      79        81     2.577525       2.642779  -2.469136   \n",
       "4   2018         1      76        79     2.479644       2.577525  -3.797468   \n",
       "5   2018         2      85        76     2.773286       2.479644  11.842105   \n",
       "6   2019         1      59        85     1.924987       2.773286 -30.588235   \n",
       "7   2019         2      46        59     1.500837       1.924987 -22.033898   \n",
       "8   2020         1      31        46     1.011434       1.500837 -32.608696   \n",
       "9   2020         2      56        31     1.827106       1.011434  80.645161   \n",
       "10  2021         1      55        56     1.794479       1.827106  -1.785714   \n",
       "11  2021         2      42        55     1.370330       1.794479 -23.636364   \n",
       "\n",
       "    VARIACION_TASA  \n",
       "0              inf  \n",
       "1        22.388060  \n",
       "2        -1.219512  \n",
       "3        -2.469136  \n",
       "4        -3.797468  \n",
       "5        11.842105  \n",
       "6       -30.588235  \n",
       "7       -22.033898  \n",
       "8       -32.608696  \n",
       "9        80.645161  \n",
       "10       -1.785714  \n",
       "11      -23.636364  "
      ]
     },
     "execution_count": 12,
     "metadata": {},
     "output_type": "execute_result"
    }
   ],
   "source": [
    "df_kpi_1['VARIACION'] = (df_kpi_1['ACTUAL'] - df_kpi_1['ANTERIOR']) / df_kpi_1['ANTERIOR'] * 100\n",
    "df_kpi_1['VARIACION_TASA'] = (df_kpi_1['TASA_ACTUAL'] - df_kpi_1['TASA_ANTERIOR']) / df_kpi_1['TASA_ANTERIOR'] * 100\n",
    "df_kpi_1"
   ]
  },
  {
   "cell_type": "markdown",
   "metadata": {},
   "source": [
    "CONCLUSION:\n",
    "Para determinar si se cumple el KPI de reducir en un 10% la tasa de homicidios en siniestros viales de los últimos seis meses en comparación con el semestre anterior, podemos observar la variación en cada semestre.\n",
    "\n",
    "Si analizamos la variación en el <u><b>último semestre (2021, 2do semestre)</u></b>, vemos que la tasa de homicidios en siniestros viales disminuyó en un 23.64% en comparación con el 1er semestre de 2021. Esto <u><b>cumple con el objetivo del KPI de reducción</u></b>.\n",
    "\n",
    "Sin embargo, es importante tener en cuenta que hubo fluctuaciones en las variaciones a lo largo de los años y semestres, y en algunos casos, la variación fue positiva, lo que indica un aumento en la tasa de homicidios en siniestros viales. Por lo tanto, el cumplimiento del KPI varía según el período específico que estés evaluando. En el último semestre, se logró una reducción significativa, pero en otros períodos, la variación fue positiva.\n",
    "\n",
    "Si tienes un umbral específico del 10% que se debe cumplir en todos los semestres, entonces el KPI no se cumpliría en todos los casos. Sin embargo, si el objetivo es una reducción general y se permite cierta variabilidad, entonces podría considerarse cumplido en el último semestre."
   ]
  },
  {
   "cell_type": "markdown",
   "metadata": {},
   "source": [
    "Graficamos "
   ]
  },
  {
   "cell_type": "code",
   "execution_count": 13,
   "metadata": {},
   "outputs": [
    {
     "data": {
      "image/png": "[encoded data removed]",
      "text/plain": [
       "<Figure size 1200x600 with 1 Axes>"
      ]
     },
     "metadata": {},
     "output_type": "display_data"
    }
   ],
   "source": [
    "df_kpi_1['SEMESTRE'] = [6 if a == 2 else a for a in df_kpi_1['SEMESTRE']]\n",
    "df_kpi_1['AÑO'] = pd.to_numeric(df_kpi_1['AÑO'], errors='coerce')\n",
    "df_kpi_1['SEMESTRE'] = pd.to_numeric(df_kpi_1['SEMESTRE'], errors='coerce')\n",
    "df_kpi_1 = df_kpi_1.dropna(subset=['AÑO', 'SEMESTRE'])\n",
    "df_kpi_1['AÑO'] = df_kpi_1['AÑO'].astype(int)\n",
    "df_kpi_1['SEMESTRE'] = df_kpi_1['SEMESTRE'].astype(int)\n",
    "df_kpi_1['FECHA'] = df_kpi_1['AÑO'].astype(str) + '-' + df_kpi_1['SEMESTRE'].astype(str) + '-01'\n",
    "df_kpi_1['FECHA'] = pd.to_datetime(df_kpi_1['FECHA'], format='%Y-%m-%d')\n",
    "\n",
    "plt.figure(figsize=(12, 6))\n",
    "colores = ['red' if valor >= 0 else 'green' for valor in df_kpi_1['VARIACION']]\n",
    "plt.bar(df_kpi_1['FECHA'], df_kpi_1['VARIACION'], color=colores, width=90)\n",
    "plt.xlabel('Año y Semestre')\n",
    "plt.ylabel('Variación')\n",
    "plt.title('Variación por Semestre a lo largo del Tiempo')\n",
    "plt.xticks(rotation=45)\n",
    "plt.grid(axis='y', linestyle='--', alpha=0.7)\n",
    "plt.tight_layout()\n",
    "plt.show()\n",
    "\n",
    "\n"
   ]
  },
  {
   "cell_type": "markdown",
   "metadata": {},
   "source": [
    "_________________________"
   ]
  },
  {
   "cell_type": "code",
   "execution_count": 14,
   "metadata": {},
   "outputs": [
    {
     "name": "stdout",
     "output_type": "stream",
     "text": [
      "Se guardó el archivo ..\\CSV\\kpi_1.csv\n"
     ]
    }
   ],
   "source": [
    "# Se construye la ruta completa al archivo CSV desde la ubicación del notebook\n",
    "siniestros = os.path.join('..', 'CSV', 'kpi_1.csv')\n",
    "\n",
    "# Se guarda el DataFrame en el archivo CSV\n",
    "df_kpi_1.to_csv(siniestros, index=False, encoding='utf-8')\n",
    "\n",
    "# Se emite un mensaje que se guardó\n",
    "print(f'Se guardó el archivo {siniestros}')"
   ]
  },
  {
   "cell_type": "markdown",
   "metadata": {},
   "source": [
    "________________________________"
   ]
  },
  {
   "cell_type": "markdown",
   "metadata": {},
   "source": [
    "## KPI II"
   ]
  },
  {
   "cell_type": "markdown",
   "metadata": {},
   "source": [
    "Reducir en un 7% la cantidad de accidentes mortales de motociclistas en el último año, en CABA, respecto al año anterior.\n",
    "\n",
    "Definimos a la cantidad de accidentes mortales de motociclistas en siniestros viales como el número absoluto de accidentes fatales en los que estuvieron involucradas víctimas que viajaban en moto en un determinado periodo temporal.\n",
    "Su fórmula para medir la evolución de los accidentes mortales con víctimas en moto es: (Número de accidentes mortales con víctimas en moto en el año anterior - Número de accidentes mortales con víctimas en moto en el año actual) / (Número de accidentes mortales con víctimas en moto en el año anterior) * 100"
   ]
  },
  {
   "cell_type": "markdown",
   "metadata": {},
   "source": [
    "Se filtra por victima = MOTO\n"
   ]
  },
  {
   "cell_type": "code",
   "execution_count": 15,
   "metadata": {},
   "outputs": [],
   "source": [
    "df_kpi_2 = df_siniestros[df_siniestros['VICTIMA'] == 'MOTO']\n"
   ]
  },
  {
   "cell_type": "markdown",
   "metadata": {},
   "source": [
    "Agrupación por año y cantidad de víctimas"
   ]
  },
  {
   "cell_type": "code",
   "execution_count": 16,
   "metadata": {},
   "outputs": [],
   "source": [
    "df_kpi_2 = df_kpi_2.groupby(['AÑO']).size().reset_index(name='ACTUAL')"
   ]
  },
  {
   "cell_type": "markdown",
   "metadata": {},
   "source": [
    "Se creala columna AÑO_ANTERIOR que obtiene el dato de cantidad de HOMICIDIOS del año anterior"
   ]
  },
  {
   "cell_type": "code",
   "execution_count": 17,
   "metadata": {},
   "outputs": [],
   "source": [
    "df_kpi_2['ANTERIOR'] = df_kpi_2['ACTUAL'].shift(periods=1, fill_value=0)"
   ]
  },
  {
   "cell_type": "markdown",
   "metadata": {},
   "source": [
    "Creación de columna Variación Porcentual (%) y asignación de valor = ((Nuevo Valor - Valor Antiguo) / Valor Antiguo) * 100"
   ]
  },
  {
   "cell_type": "markdown",
   "metadata": {},
   "source": [
    "(Número de accidentes mortales con víctimas en moto en el año anterior - Número de accidentes mortales con víctimas en moto en el año actual) / (Número de accidentes mortales con víctimas en moto en el año anterior) * 100"
   ]
  },
  {
   "cell_type": "code",
   "execution_count": 18,
   "metadata": {},
   "outputs": [],
   "source": [
    "df_kpi_2['VARIACION'] = (df_kpi_2['ANTERIOR']- df_kpi_2['ACTUAL']) / df_kpi_2['ANTERIOR'] * 100"
   ]
  },
  {
   "cell_type": "code",
   "execution_count": 19,
   "metadata": {},
   "outputs": [
    {
     "data": {
      "text/html": [
       "<div>\n",
       "<style scoped>\n",
       "    .dataframe tbody tr th:only-of-type {\n",
       "        vertical-align: middle;\n",
       "    }\n",
       "\n",
       "    .dataframe tbody tr th {\n",
       "        vertical-align: top;\n",
       "    }\n",
       "\n",
       "    .dataframe thead th {\n",
       "        text-align: right;\n",
       "    }\n",
       "</style>\n",
       "<table border=\"1\" class=\"dataframe\">\n",
       "  <thead>\n",
       "    <tr style=\"text-align: right;\">\n",
       "      <th></th>\n",
       "      <th>AÑO</th>\n",
       "      <th>ACTUAL</th>\n",
       "      <th>ANTERIOR</th>\n",
       "      <th>VARIACION</th>\n",
       "    </tr>\n",
       "  </thead>\n",
       "  <tbody>\n",
       "    <tr>\n",
       "      <th>0</th>\n",
       "      <td>2016</td>\n",
       "      <td>65</td>\n",
       "      <td>0</td>\n",
       "      <td>-inf</td>\n",
       "    </tr>\n",
       "    <tr>\n",
       "      <th>1</th>\n",
       "      <td>2017</td>\n",
       "      <td>56</td>\n",
       "      <td>65</td>\n",
       "      <td>13.846154</td>\n",
       "    </tr>\n",
       "    <tr>\n",
       "      <th>2</th>\n",
       "      <td>2018</td>\n",
       "      <td>57</td>\n",
       "      <td>56</td>\n",
       "      <td>-1.785714</td>\n",
       "    </tr>\n",
       "    <tr>\n",
       "      <th>3</th>\n",
       "      <td>2019</td>\n",
       "      <td>49</td>\n",
       "      <td>57</td>\n",
       "      <td>14.035088</td>\n",
       "    </tr>\n",
       "    <tr>\n",
       "      <th>4</th>\n",
       "      <td>2020</td>\n",
       "      <td>28</td>\n",
       "      <td>49</td>\n",
       "      <td>42.857143</td>\n",
       "    </tr>\n",
       "    <tr>\n",
       "      <th>5</th>\n",
       "      <td>2021</td>\n",
       "      <td>46</td>\n",
       "      <td>28</td>\n",
       "      <td>-64.285714</td>\n",
       "    </tr>\n",
       "  </tbody>\n",
       "</table>\n",
       "</div>"
      ],
      "text/plain": [
       "    AÑO  ACTUAL  ANTERIOR  VARIACION\n",
       "0  2016      65         0       -inf\n",
       "1  2017      56        65  13.846154\n",
       "2  2018      57        56  -1.785714\n",
       "3  2019      49        57  14.035088\n",
       "4  2020      28        49  42.857143\n",
       "5  2021      46        28 -64.285714"
      ]
     },
     "execution_count": 19,
     "metadata": {},
     "output_type": "execute_result"
    }
   ],
   "source": [
    "df_kpi_2"
   ]
  },
  {
   "cell_type": "code",
   "execution_count": 20,
   "metadata": {},
   "outputs": [
    {
     "data": {
      "image/png": "[encoded data removed]",
      "text/plain": [
       "<Figure size 1200x600 with 1 Axes>"
      ]
     },
     "metadata": {},
     "output_type": "display_data"
    }
   ],
   "source": [
    "# Suponiendo que ya tienes el DataFrame df_kpi_2 con las columnas 'AÑO' y 'VARIACION'\n",
    "\n",
    "plt.figure(figsize=(12, 6))\n",
    "\n",
    "# Asigna colores\n",
    "colores = ['green' if valor >= 0 else 'red' for valor in df_kpi_2['VARIACION']]\n",
    "\n",
    "# Gráfico de barras con colores\n",
    "plt.bar(df_kpi_2['AÑO'], df_kpi_2['VARIACION'], color=colores, width=0.5)\n",
    "\n",
    "plt.xlabel('Año')\n",
    "plt.ylabel('Variación')\n",
    "plt.title('Variación por año')\n",
    "plt.xticks(rotation=45)\n",
    "plt.grid(axis='y', linestyle='--', alpha=0.7)\n",
    "plt.tight_layout()\n",
    "plt.show()\n"
   ]
  },
  {
   "cell_type": "markdown",
   "metadata": {},
   "source": [
    "Al analizar los resultados:\n",
    "\n",
    "- En 2016, no hay datos del año anterior, por lo que la variación no se puede calcular.\n",
    "- En <u><b>2017</u></b>, la variación es positiva (17.46%), lo que indica una <u><b>reducción</u></b>.\n",
    "- En <u><b>2018</u></b>, la variación es negativa (-9.62%), indicando un <u><b>aumento</u></b>.\n",
    "- En<u><b> 2019</u></b>, la variación es positiva (14.04%), nuevamente indicando una <u><b>reducción</u></b>.\n",
    "- En <u><b>2020</u></b>, la variación es significativamente positiva (44.90%), mostrando una <u><b>disminución sustancial</u></b>.\n",
    "- En <u><b>2021</u></b>, la variación es negativa (-66.67%), lo que sugiere un <u><b>aumento considerable</u></b>.\n",
    "\n",
    "Aunque se observa una mejora en varios años, la variación negativa en <u><b>2021</u></b> indica un aumento significativo en la cantidad de accidentes mortales de motociclistas en comparación con el año anterior, <u><b>incumpliendo el objetivo del KPI2</u></b>. "
   ]
  },
  {
   "cell_type": "markdown",
   "metadata": {},
   "source": [
    "_________________________"
   ]
  },
  {
   "cell_type": "code",
   "execution_count": 21,
   "metadata": {},
   "outputs": [
    {
     "name": "stdout",
     "output_type": "stream",
     "text": [
      "Se guardó el archivo ..\\CSV\\kpi_2.csv\n"
     ]
    }
   ],
   "source": [
    "# Se construye la ruta completa al archivo CSV desde la ubicación del notebook\n",
    "siniestros = os.path.join('..', 'CSV', 'kpi_2.csv')\n",
    "\n",
    "# Se guarda el DataFrame en el archivo CSV\n",
    "df_kpi_2.to_csv(siniestros, index=False, encoding='utf-8')\n",
    "\n",
    "# Se emite un mensaje que se guardó\n",
    "print(f'Se guardó el archivo {siniestros}')"
   ]
  },
  {
   "cell_type": "markdown",
   "metadata": {},
   "source": [
    "________________"
   ]
  },
  {
   "cell_type": "markdown",
   "metadata": {},
   "source": [
    "## KPI III"
   ]
  },
  {
   "cell_type": "markdown",
   "metadata": {},
   "source": [
    "### KPI 3: Reducir en un 2% la cantidad de accidentes mortales de peatones en el último año respecto al año anterior, en CABA, en comparación con la tasa de homicidios en siniestros viales del año anterior."
   ]
  },
  {
   "cell_type": "code",
   "execution_count": 22,
   "metadata": {},
   "outputs": [],
   "source": [
    "df_kpi_3 = df_siniestros[df_siniestros['VICTIMA'] == 'PEATON']"
   ]
  },
  {
   "cell_type": "markdown",
   "metadata": {},
   "source": [
    "Agrupación por año y cantidad de víctimas"
   ]
  },
  {
   "cell_type": "code",
   "execution_count": 23,
   "metadata": {},
   "outputs": [],
   "source": [
    "df_kpi_3 = df_kpi_3.groupby(['AÑO'])[\"CANT_VICTIMAS\"].sum().reset_index(name='ACTUAL')\n"
   ]
  },
  {
   "cell_type": "code",
   "execution_count": 24,
   "metadata": {},
   "outputs": [],
   "source": [
    "df_kpi_3['ANTERIOR'] = df_kpi_3['ACTUAL'].shift(periods=1, fill_value=0)"
   ]
  },
  {
   "cell_type": "code",
   "execution_count": 25,
   "metadata": {},
   "outputs": [],
   "source": [
    "df_kpi_3['ACTUAL'] = (df_kpi_3['ACTUAL']/promedio_total) * 100000\n",
    "df_kpi_3['ANTERIOR'] = (df_kpi_3['ANTERIOR']/promedio_total) * 100000"
   ]
  },
  {
   "cell_type": "code",
   "execution_count": 26,
   "metadata": {},
   "outputs": [
    {
     "data": {
      "text/html": [
       "<div>\n",
       "<style scoped>\n",
       "    .dataframe tbody tr th:only-of-type {\n",
       "        vertical-align: middle;\n",
       "    }\n",
       "\n",
       "    .dataframe tbody tr th {\n",
       "        vertical-align: top;\n",
       "    }\n",
       "\n",
       "    .dataframe thead th {\n",
       "        text-align: right;\n",
       "    }\n",
       "</style>\n",
       "<table border=\"1\" class=\"dataframe\">\n",
       "  <thead>\n",
       "    <tr style=\"text-align: right;\">\n",
       "      <th></th>\n",
       "      <th>AÑO</th>\n",
       "      <th>ACTUAL</th>\n",
       "      <th>ANTERIOR</th>\n",
       "      <th>VARIACION</th>\n",
       "    </tr>\n",
       "  </thead>\n",
       "  <tbody>\n",
       "    <tr>\n",
       "      <th>0</th>\n",
       "      <td>2016</td>\n",
       "      <td>1.566091</td>\n",
       "      <td>0.000000</td>\n",
       "      <td>inf</td>\n",
       "    </tr>\n",
       "    <tr>\n",
       "      <th>1</th>\n",
       "      <td>2017</td>\n",
       "      <td>1.598718</td>\n",
       "      <td>1.566091</td>\n",
       "      <td>2.083333</td>\n",
       "    </tr>\n",
       "    <tr>\n",
       "      <th>2</th>\n",
       "      <td>2018</td>\n",
       "      <td>2.218629</td>\n",
       "      <td>1.598718</td>\n",
       "      <td>38.775510</td>\n",
       "    </tr>\n",
       "    <tr>\n",
       "      <th>3</th>\n",
       "      <td>2019</td>\n",
       "      <td>1.207195</td>\n",
       "      <td>2.218629</td>\n",
       "      <td>-45.588235</td>\n",
       "    </tr>\n",
       "    <tr>\n",
       "      <th>4</th>\n",
       "      <td>2020</td>\n",
       "      <td>1.109314</td>\n",
       "      <td>1.207195</td>\n",
       "      <td>-8.108108</td>\n",
       "    </tr>\n",
       "    <tr>\n",
       "      <th>5</th>\n",
       "      <td>2021</td>\n",
       "      <td>1.076688</td>\n",
       "      <td>1.109314</td>\n",
       "      <td>-2.941176</td>\n",
       "    </tr>\n",
       "  </tbody>\n",
       "</table>\n",
       "</div>"
      ],
      "text/plain": [
       "    AÑO    ACTUAL  ANTERIOR  VARIACION\n",
       "0  2016  1.566091  0.000000        inf\n",
       "1  2017  1.598718  1.566091   2.083333\n",
       "2  2018  2.218629  1.598718  38.775510\n",
       "3  2019  1.207195  2.218629 -45.588235\n",
       "4  2020  1.109314  1.207195  -8.108108\n",
       "5  2021  1.076688  1.109314  -2.941176"
      ]
     },
     "execution_count": 26,
     "metadata": {},
     "output_type": "execute_result"
    }
   ],
   "source": [
    "df_kpi_3['VARIACION'] = (df_kpi_3['ACTUAL'] - df_kpi_3['ANTERIOR']) / df_kpi_3['ANTERIOR'] * 100\n",
    "df_kpi_3"
   ]
  },
  {
   "cell_type": "markdown",
   "metadata": {},
   "source": [
    "La variación negativa en la cantidad de accidentes mortales de peatones en los años 2019, 2020 y 2021 indica que ha habido una disminución en comparación con el año anterior. Sin embargo, para determinar si se cumple o no el KPI3, es necesario comparar esta variación con el objetivo del KPI, que es reducir en un 2% la cantidad de accidentes mortales de peatones en el último año respecto al año anterior.\n",
    "\n",
    "Observando la variación en cada año:\n",
    "\n",
    "- En 2017, la variación es positiva (2.08%), indicando un aumento en la cantidad de accidentes mortales de peatones. No cumple con el objetivo.\n",
    "- En 2018, la variación es muy positiva (38.78%), mostrando un aumento significativo. No cumple con el objetivo.\n",
    "- En 2019, la variación es negativa (-45.59%), indicando una disminución significativa. Cumple con el objetivo.\n",
    "- En 2020, la variación es negativa (-8.11%), señalando otra disminución. Cumple con el objetivo.\n",
    "- En 2021, la variación es negativa (-2.94%), indicando una disminución. Cumple con el objetivo.\n",
    "\n",
    "En conclusión, el KPI3 <u><b>se cumple en los años 2019, 2020 y 2021</u></b>, ya que en estos años se logró la reducción del 2% en la cantidad de accidentes mortales de peatones en comparación con el año anterior.\n",
    "\n",
    "\n",
    "\n",
    "\n"
   ]
  },
  {
   "cell_type": "markdown",
   "metadata": {},
   "source": [
    "____________________________"
   ]
  },
  {
   "cell_type": "code",
   "execution_count": 27,
   "metadata": {},
   "outputs": [
    {
     "data": {
      "image/png": "[encoded data removed]",
      "text/plain": [
       "<Figure size 640x480 with 1 Axes>"
      ]
     },
     "metadata": {},
     "output_type": "display_data"
    }
   ],
   "source": [
    "import matplotlib.pyplot as plt\n",
    "\n",
    "# Datos\n",
    "años = df_kpi_3['AÑO']\n",
    "variacion =df_kpi_3['VARIACION']\n",
    "\n",
    "# Colores para barras positivas (rojo) y negativas (verde)\n",
    "colores = ['red' if v > 0 else 'green' for v in variacion]\n",
    "\n",
    "# Gráfico de barras con colores\n",
    "plt.bar(años, variacion, color=colores, alpha=0.7)\n",
    "plt.xlabel('Año')\n",
    "plt.ylabel('Variación Porcentual (%)')\n",
    "plt.title('Variación Porc. en Accidentes Mortales de Peatones')\n",
    "plt.xticks(años)  # Asegura que todos los años estén etiquetados\n",
    "plt.show()\n"
   ]
  },
  {
   "cell_type": "markdown",
   "metadata": {},
   "source": [
    "_____________________"
   ]
  },
  {
   "cell_type": "code",
   "execution_count": 28,
   "metadata": {},
   "outputs": [
    {
     "name": "stdout",
     "output_type": "stream",
     "text": [
      "Se guardó el archivo ..\\CSV\\kpi_3_t.csv\n"
     ]
    }
   ],
   "source": [
    "# Se construye la ruta completa al archivo CSV desde la ubicación del notebook\n",
    "siniestros = os.path.join('..', 'CSV', 'kpi_3_t.csv')\n",
    "\n",
    "# Se guarda el DataFrame en el archivo CSV\n",
    "df_kpi_3.to_csv(siniestros, index=False, encoding='utf-8')\n",
    "\n",
    "# Se emite un mensaje que se guardó\n",
    "print(f'Se guardó el archivo {siniestros}')"
   ]
  }
 ],
 "metadata": {
  "kernelspec": {
   "display_name": "Python 3",
   "language": "python",
   "name": "python3"
  },
  "language_info": {
   "codemirror_mode": {
    "name": "ipython",
    "version": 3
   },
   "file_extension": ".py",
   "mimetype": "text/x-python",
   "name": "python",
   "nbconvert_exporter": "python",
   "pygments_lexer": "ipython3",
   "version": "3.11.6"
  }
 },
 "nbformat": 4,
 "nbformat_minor": 2
}
